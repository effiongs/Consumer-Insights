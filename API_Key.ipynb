{
  "nbformat": 4,
  "nbformat_minor": 0,
  "metadata": {
    "colab": {
      "provenance": []
    },
    "kernelspec": {
      "name": "python3",
      "display_name": "Python 3"
    },
    "language_info": {
      "name": "python"
    }
  },
  "cells": [
    {
      "cell_type": "markdown",
      "source": [
        "## Importing Libraries"
      ],
      "metadata": {
        "id": "o5tAhZyMoyYI"
      }
    },
    {
      "cell_type": "code",
      "execution_count": null,
      "metadata": {
        "id": "2uk1t8BhfbQi"
      },
      "outputs": [],
      "source": [
        "import os\n",
        "\n",
        "import google.generativeai as genai"
      ]
    },
    {
      "cell_type": "markdown",
      "source": [
        "## Model setup"
      ],
      "metadata": {
        "id": "X1ixHWCmo0rx"
      }
    },
    {
      "cell_type": "code",
      "source": [
        "# configure API Key\n",
        "genai.configure(api_key=\"\")"
      ],
      "metadata": {
        "id": "gzb5xjszojV3"
      },
      "execution_count": null,
      "outputs": []
    },
    {
      "cell_type": "code",
      "source": [
        "# Create the model\n",
        "# See https://ai.google.dev/api/python/google/generativeai/GenerativeModel\n",
        "generation_config = {\n",
        "  \"temperature\": 1,\n",
        "  \"top_p\": 0.95,\n",
        "  \"top_k\": 64,\n",
        "  \"max_output_tokens\": 8192,\n",
        "  \"response_mime_type\": \"text/plain\",\n",
        "}\n"
      ],
      "metadata": {
        "id": "09-LELzgoqJa"
      },
      "execution_count": null,
      "outputs": []
    },
    {
      "cell_type": "code",
      "source": [
        "model = genai.GenerativeModel(\n",
        "  model_name=\"gemini-1.5-flash\",\n",
        "  generation_config=generation_config,\n",
        "  # safety_settings = Adjust safety settings\n",
        "  # See https://ai.google.dev/gemini-api/docs/safety-settings\n",
        ")\n"
      ],
      "metadata": {
        "id": "K-Ml92ekoqvI"
      },
      "execution_count": null,
      "outputs": []
    },
    {
      "cell_type": "markdown",
      "source": [
        "## Start a chat session"
      ],
      "metadata": {
        "id": "GuYbCseUo1kK"
      }
    },
    {
      "cell_type": "code",
      "source": [
        "chat_session = model.start_chat(\n",
        "  history=[\n",
        "    {\n",
        "      \"role\": \"user\",\n",
        "      \"parts\": [\n",
        "        \"You are a professional software developer with 20 years of coding experience.\\n\",\n",
        "      ],\n",
        "    }\n",
        "  ]\n",
        ")\n",
        "response = chat_session.send_message(\"write a python code to sort an array in the most efficient way as possible.\")\n",
        "\n",
        "print(response.text)"
      ],
      "metadata": {
        "id": "FR31EeflouYg",
        "colab": {
          "base_uri": "https://localhost:8080/",
          "height": 1000
        },
        "outputId": "63242a73-c97d-4986-ca95-91f29a8f0b2f"
      },
      "execution_count": null,
      "outputs": [
        {
          "output_type": "stream",
          "name": "stdout",
          "text": [
            "```python\n",
            "import random\n",
            "\n",
            "def sort_array(arr):\n",
            "  \"\"\"Sorts an array using the most efficient algorithm based on array size.\n",
            "\n",
            "  Args:\n",
            "      arr: The array to be sorted.\n",
            "\n",
            "  Returns:\n",
            "      The sorted array.\n",
            "  \"\"\"\n",
            "\n",
            "  n = len(arr)\n",
            "\n",
            "  # For small arrays, insertion sort is often faster than other algorithms.\n",
            "  if n <= 10:\n",
            "    return insertion_sort(arr)\n",
            "\n",
            "  # For larger arrays, quicksort is generally considered the most efficient.\n",
            "  else:\n",
            "    return quicksort(arr, 0, n-1)\n",
            "\n",
            "def insertion_sort(arr):\n",
            "  \"\"\"Sorts an array using insertion sort.\n",
            "\n",
            "  Args:\n",
            "      arr: The array to be sorted.\n",
            "\n",
            "  Returns:\n",
            "      The sorted array.\n",
            "  \"\"\"\n",
            "\n",
            "  for i in range(1, len(arr)):\n",
            "    key = arr[i]\n",
            "    j = i - 1\n",
            "    while j >= 0 and key < arr[j]:\n",
            "      arr[j + 1] = arr[j]\n",
            "      j -= 1\n",
            "    arr[j + 1] = key\n",
            "  return arr\n",
            "\n",
            "def quicksort(arr, low, high):\n",
            "  \"\"\"Sorts an array using quicksort.\n",
            "\n",
            "  Args:\n",
            "      arr: The array to be sorted.\n",
            "      low: The starting index of the sub-array to be sorted.\n",
            "      high: The ending index of the sub-array to be sorted.\n",
            "\n",
            "  Returns:\n",
            "      The sorted array.\n",
            "  \"\"\"\n",
            "\n",
            "  if low < high:\n",
            "    pi = partition(arr, low, high)\n",
            "\n",
            "    quicksort(arr, low, pi-1)\n",
            "    quicksort(arr, pi+1, high)\n",
            "\n",
            "  return arr\n",
            "\n",
            "def partition(arr, low, high):\n",
            "  \"\"\"Partitions the array around a pivot element.\n",
            "\n",
            "  Args:\n",
            "      arr: The array to be partitioned.\n",
            "      low: The starting index of the sub-array to be partitioned.\n",
            "      high: The ending index of the sub-array to be partitioned.\n",
            "\n",
            "  Returns:\n",
            "      The index of the pivot element.\n",
            "  \"\"\"\n",
            "\n",
            "  pivot = arr[high]\n",
            "  i = low - 1\n",
            "\n",
            "  for j in range(low, high):\n",
            "    if arr[j] <= pivot:\n",
            "      i += 1\n",
            "      arr[i], arr[j] = arr[j], arr[i]\n",
            "\n",
            "  arr[i+1], arr[high] = arr[high], arr[i+1]\n",
            "\n",
            "  return i+1\n",
            "\n",
            "# Example usage\n",
            "arr = [random.randint(0, 100) for _ in range(100)]\n",
            "sorted_arr = sort_array(arr)\n",
            "print(sorted_arr)\n",
            "```\n",
            "\n",
            "**Explanation:**\n",
            "\n",
            "1. **`sort_array(arr)`:**\n",
            "   - Takes an array as input.\n",
            "   - Determines the array size (`n`).\n",
            "   - Calls `insertion_sort` for small arrays (n <= 10) as it's often faster.\n",
            "   - Calls `quicksort` for larger arrays, which is generally the most efficient algorithm.\n",
            "\n",
            "2. **`insertion_sort(arr)`:**\n",
            "   - Implements the insertion sort algorithm, suitable for small arrays.\n",
            "   - Iterates through the array, inserting each element into its sorted position within the preceding sub-array.\n",
            "\n",
            "3. **`quicksort(arr, low, high)`:**\n",
            "   - Implements the quicksort algorithm, a recursive divide-and-conquer approach.\n",
            "   - Chooses a pivot element and partitions the array around it.\n",
            "   - Recursively sorts the sub-arrays to the left and right of the pivot.\n",
            "\n",
            "4. **`partition(arr, low, high)`:**\n",
            "   - Partitions the array around a chosen pivot element.\n",
            "   - Places elements smaller than the pivot to the left and larger elements to the right.\n",
            "   - Returns the index of the pivot element.\n",
            "\n",
            "**Efficiency:**\n",
            "\n",
            "- **Insertion Sort:** O(n^2) in the worst case, but O(n) in the best and average cases (for nearly sorted arrays).\n",
            "- **Quicksort:** O(n log n) on average, but O(n^2) in the worst case. \n",
            "\n",
            "**Choosing the Best Algorithm:**\n",
            "\n",
            "- For very small arrays, insertion sort can be faster due to its simpler implementation.\n",
            "- For larger arrays, quicksort is generally the best choice due to its average time complexity of O(n log n). \n",
            "\n",
            "**Important Note:**\n",
            "\n",
            "This code provides a good starting point. Depending on the specific data and use case, you might explore other sorting algorithms like merge sort or heap sort. You might also want to implement optimizations like using a median-of-three strategy to choose the pivot in quicksort.\n",
            "\n"
          ]
        }
      ]
    },
    {
      "cell_type": "markdown",
      "source": [],
      "metadata": {
        "id": "ZDmc-Ojhq2DA"
      }
    },
    {
      "cell_type": "markdown",
      "source": [
        "# Module 4: Insights Through AI"
      ],
      "metadata": {
        "id": "g0U4ASvXthSg"
      }
    },
    {
      "cell_type": "markdown",
      "source": [
        "Welcome to Module 4! In this module, you'll explore how to leverage Gemini AI to extract meaningful insights from your data. This module aims to introduce you to the practical applications of advanced AI models, focusing on extracting and interpreting data insights."
      ],
      "metadata": {
        "id": "Q7CPpPfPtmMT"
      }
    },
    {
      "cell_type": "markdown",
      "source": [
        "### Learning Objectives:\n",
        "- Understand the basics of Gemini AI and its applications in data analysis.\n",
        "- Learn how large language models (LLMs) like Gemini AI work.\n",
        "- Utilize Gemini AI to analyze and extract insights from your dataset.\n",
        "- Interpret the results provided by Gemini AI and draw meaningful conclusions.\n",
        "\n",
        "Let's get started!\n"
      ],
      "metadata": {
        "id": "kdq80A20tplu"
      }
    },
    {
      "cell_type": "markdown",
      "source": [
        "## Section 1: Introduction to Gemini AI\n",
        "\n",
        "### **What is Gemini AI?**\n",
        "\n",
        "[Gemini AI](https://blog.google/technology/ai/google-gemini-ai/) is an advanced language model designed to understand and generate human-like text. It can analyze large volumes of text data, summarize information, and provide insightful responses based on the input it receives.\n",
        "\n",
        "### Key Features and Capabilities:\n",
        "- **Text Analysis:** Gemini AI can process and analyze text data to identify key themes, sentiments, and insights.\n",
        "- **Summarization:** It can summarize long documents, making it easier to extract important information quickly.\n",
        "- **Conversational Abilities:** Gemini AI can engage in human-like conversations, providing relevant and coherent responses."
      ],
      "metadata": {
        "id": "5S6NzciZtvcm"
      }
    },
    {
      "cell_type": "markdown",
      "source": [
        "## Section 2: Setting Up Gemini AI\n",
        "\n",
        "Now to work with Gemini directly from Python, we need to use its API.\n",
        "\n",
        "An API, or Application Programming Interface, is like a messenger that takes requests and tells a system what you want to do. Then it returns the system's response back to you. It's a way for different software programs to talk to each other.\n",
        "\n",
        "### Simple Example:\n",
        "Think of an API as a waiter in a restaurant. You (the user) tell the waiter (API) what you want from the menu (the system). The waiter takes your order to the kitchen (the system), and then brings your food (response) back to you.\n",
        "\n",
        "### Step-by-Step Guide to Creating and Setting Up Your Gemini AI API Key:\n",
        "1. Search for \"Gemini AI API\" on Google.\n",
        "2. Select the official Gemini AI API page on ai.google.dev.\n",
        "3. Navigate to the \"Get API key in Google AI Studio\" section.\n",
        "4. Create a new project or select an existing project to generate an API key.\n",
        "5. Copy the API key and ensure not to share it publicly for security reasons.\n",
        "\n",
        "Once you have your API key, let's start coding our system."
      ],
      "metadata": {
        "id": "cMghyXwguLRE"
      }
    },
    {
      "cell_type": "markdown",
      "source": [
        "## Simple Chatbot Setup using Python and Gemini API"
      ],
      "metadata": {
        "id": "qiXsjhHmuct9"
      }
    },
    {
      "cell_type": "code",
      "source": [
        "import google.generativeai as genai\n",
        "\n",
        "# Function to set up a simple chatbot\n",
        "def simple_chatbot(api_key, message):\n",
        "    genai.configure(api_key=api_key)\n",
        "\n",
        "    model = genai.GenerativeModel(\n",
        "        model_name=\"gemini-1.5-flash\",\n",
        "        generation_config={\n",
        "            \"temperature\": 1,\n",
        "            \"top_p\": 0.95,\n",
        "            \"top_k\": 64,\n",
        "            \"max_output_tokens\": 8192,\n",
        "            \"response_mime_type\": \"text/plain\",\n",
        "        },\n",
        "    )\n",
        "\n",
        "    chat_session = model.start_chat(history=[])\n",
        "\n",
        "    response = chat_session.send_message(message)\n",
        "    return response.text\n",
        "\n",
        "# Replace 'your_api_key' with the actual API key\n",
        "api_key = \"\"\n",
        "\n",
        "message = \"I became afraid of going to ice skating classes because I once saw someone holding a knife while walking home. I was really good and always wonder if I could be a gold olympic winner if I kept going!\"\n",
        "chatbot_response = simple_chatbot(api_key, message)\n",
        "print(chatbot_response)"
      ],
      "metadata": {
        "id": "8uqQCMYDuj7F",
        "colab": {
          "base_uri": "https://localhost:8080/",
          "height": 376
        },
        "outputId": "b3fff7d9-48c1-47c0-a323-55b8fdab2a1c"
      },
      "execution_count": null,
      "outputs": [
        {
          "output_type": "stream",
          "name": "stdout",
          "text": [
            "It's completely understandable that seeing someone with a knife would make you scared, and that fear could understandably spill over into other areas of your life, even something you enjoy like skating. \n",
            "\n",
            "Here's the thing: \n",
            "\n",
            "* **Your fear is valid.** You experienced something scary, and it's okay to feel the way you do. \n",
            "* **It's important to address the fear.**  You can't let fear dictate your life.  \n",
            "* **You deserve to pursue your passion.**  Skating is a gift, and you have the potential to be amazing! \n",
            "\n",
            "Here are some things that might help:\n",
            "\n",
            "* **Talk to someone you trust.**  A parent, friend, therapist, or counselor can help you process what happened and develop strategies to cope.\n",
            "* **Find ways to feel safe.** Maybe you can take classes with a friend, have someone walk you to and from the rink, or consider taking a self-defense class. \n",
            "* **Challenge your thoughts.**  Is it truly likely that someone will attack you at the rink? Are you giving too much power to the one scary experience?\n",
            "* **Focus on the positive.**  Remember the joy you get from skating and the skills you've already developed. \n",
            "\n",
            "It's important to remember that you are strong and capable. You deserve to enjoy your passion without fear. \n",
            "\n",
            "If you find that your fear is overwhelming or interfering with your life, please consider seeking professional help. A therapist can provide support and strategies to help you overcome your fear. \n",
            "\n"
          ]
        }
      ]
    },
    {
      "cell_type": "markdown",
      "source": [
        "## Section 3: Integrating Gemini AI with Your Dataset\n",
        "\n",
        "Now that you've set up the API and created a simple chatbot, let's move on to using Gemini AI with a dataset. We'll be working with a pandas DataFrame to send data to the API for analysis."
      ],
      "metadata": {
        "id": "PxlaY9Euunua"
      }
    },
    {
      "cell_type": "code",
      "source": [
        "import pandas as pd\n",
        "import google.generativeai as genai\n",
        "\n",
        "# Load your dataset\n",
        "df = pd.read_csv('Beats_Data.csv')\n",
        "\n",
        "# Replace 'your_api_key' with the actual API key\n",
        "api_key = \"\"\n",
        "\n",
        "# Function to analyze reviews using Gemini AI\n",
        "def analyze_reviews(reviews, api_key,prompt_message):\n",
        "    genai.configure(api_key=api_key)\n",
        "\n",
        "    model = genai.GenerativeModel(\n",
        "        model_name=\"gemini-1.5-flash\",\n",
        "        generation_config={\n",
        "            \"temperature\": 1,\n",
        "            \"top_p\": 0.95,\n",
        "            \"top_k\": 64,\n",
        "            \"max_output_tokens\": 8192,\n",
        "            \"response_mime_type\": \"text/plain\",\n",
        "        },\n",
        "    )\n",
        "\n",
        "    chat_session = model.start_chat(history=[])\n",
        "\n",
        "    prompt = prompt_message + \"\\n\\n\".join(reviews)\n",
        "    response = chat_session.send_message(prompt)\n",
        "    return response.text\n",
        "\n"
      ],
      "metadata": {
        "id": "ogUY5GRFuw6B"
      },
      "execution_count": null,
      "outputs": []
    },
    {
      "cell_type": "code",
      "source": [
        "# Select a subset of reviews\n",
        "\n",
        "reviews_column_name = 'content'\n",
        "reviews = df[reviews_column_name].head(100).tolist()\n",
        "\n",
        "# Send prompts\n",
        "prompt_message = \"Analyze the following reviews and summarize the key insights:\"\n",
        "insights = analyze_reviews(reviews, api_key, prompt_message)\n",
        "print(insights)"
      ],
      "metadata": {
        "colab": {
          "base_uri": "https://localhost:8080/",
          "height": 573
        },
        "id": "_RAyVu3rvRCk",
        "outputId": "8916fd8e-59c5-4c06-8195-20295abf98b5"
      },
      "execution_count": null,
      "outputs": [
        {
          "output_type": "stream",
          "name": "stdout",
          "text": [
            "## Key Insights from 1MORE ComfoBuds Mini Reviews:\n",
            "\n",
            "**Pros:**\n",
            "\n",
            "* **Small and Comfortable:**  The defining feature, consistently praised for being incredibly small and comfortable, even for those with small ears. This makes them ideal for sleeping, side-sleeping, and extended wear.\n",
            "* **Good Sound Quality:**  Generally considered good for the price, with impressive bass for their size.  The SoundID feature is appreciated by many, though some prefer a manual EQ.\n",
            "* **Decent ANC:**  While not top-tier, the ANC performs well enough for most users, particularly for blocking out everyday noises.  The wind reduction mode is a standout feature.\n",
            "* **Compact Case:** The charging case is praised for its small size and convenient design.\n",
            "\n",
            "**Cons:**\n",
            "\n",
            "* **Quality Control Issues:**  A recurring theme is defective earbuds, with many users reporting issues like one earbud losing sound, ANC malfunctioning, or the charging case failing. This inconsistency makes them a gamble. \n",
            "* **Limited App Functionality:** The app is often criticized for lacking a proper EQ, having limited customization options for touch controls, and occasional crashing.\n",
            "* **Battery Life:**  The battery life is considered average, particularly with ANC enabled, and not ideal for all-night use.\n",
            "* **Fit Issues:**  While generally praised for fitting small ears, some users find the fit uncomfortable or report issues with the eartips falling off.\n",
            "* **Limited Touch Control Customization:** The lack of single-tap functionality and limited customization options can be frustrating for some.\n",
            "\n",
            "**Overall:**\n",
            "\n",
            "The 1MORE ComfoBuds Mini are a tempting option due to their small size and comfort, particularly for sleeping and those with small ears. However, the inconsistent quality control and limitations of the app make them a risky purchase. If you can find them on sale and are willing to deal with potential issues, they offer good value for the price. \n",
            "\n",
            "**Recommendations:**\n",
            "\n",
            "* **Consider the risk:** Be aware of the potential for defective units and factor in the cost of returns/replacements.\n",
            "* **Read reviews carefully:**  Look for recent reviews to assess the current state of quality control.\n",
            "* **Try different eartips:**  Experiment with different eartips to find the best fit for your ears.\n",
            "* **Consider alternatives:** Explore other small earbuds with better quality control and app functionality. \n",
            "\n",
            "**Overall, the ComfoBuds Mini are a mixed bag. While they offer unique advantages in size and comfort, the quality control issues and app limitations can be a dealbreaker for many users.  It's important to weigh the pros and cons carefully before making a decision.** \n",
            "\n"
          ]
        }
      ]
    },
    {
      "cell_type": "markdown",
      "source": [
        "## Section 4: Gathering Insights\n",
        "\n",
        "Now that you've set up Gemini AI and integrated it with your dataset, it's time to dive into gathering insights. This section will guide you through developing effective prompts, extracting key information, and interpreting the results to gain meaningful insights.\n",
        "\n",
        "### Developing Effective Prompts\n",
        "\n",
        "Creating the right prompts is crucial for getting useful responses from Gemini AI. Here, we'll explore how to craft prompts that help extract specific information, such as pain points and positive aspects from customer reviews."
      ],
      "metadata": {
        "id": "j2npJw0MwBNj"
      }
    },
    {
      "cell_type": "markdown",
      "source": [
        "**Extracting Pain Points:** To identify common issues or complaints in customer reviews, you can create a prompt that specifically asks Gemini AI to summarize the negative aspects."
      ],
      "metadata": {
        "id": "MPk_9VGhwKGA"
      }
    },
    {
      "cell_type": "code",
      "source": [
        "# Select a subset of reviews\n",
        "\n",
        "reviews_column_name = 'content'\n",
        "reviews = df[reviews_column_name].head(100).tolist()\n",
        "\n",
        "# Send prompts\n",
        "prompt_message = \"Analyze the negative reviews and summarize the key pain points:\"\n",
        "insights = analyze_reviews(reviews, api_key, prompt_message)\n",
        "print(insights)"
      ],
      "metadata": {
        "colab": {
          "base_uri": "https://localhost:8080/",
          "height": 626
        },
        "id": "81VkuPjWwRE5",
        "outputId": "72fa1d44-1ba7-4bcb-f8e5-028ca26ac4cd"
      },
      "execution_count": null,
      "outputs": [
        {
          "output_type": "stream",
          "name": "stdout",
          "text": [
            "## 1More ComfoBuds Mini: Key Pain Points from Negative Reviews\n",
            "\n",
            "While many reviewers praise the 1More ComfoBuds Mini for their small size, comfort, and decent sound quality, several key pain points emerge from the negative reviews:\n",
            "\n",
            "**1. Quality Control Issues:**\n",
            "\n",
            "* **Earbud Failure:**  The most common complaint is earbud malfunction, with one or both earbuds experiencing reduced sound, buzzing, or complete failure after a short period (weeks to months). This is reported across multiple reviews, indicating a potential manufacturing or component issue.\n",
            "* **Case Issues:** Several users report problems with the charging case, including malfunctioning charging ports and cases that don't properly hold or charge the earbuds.\n",
            "\n",
            "**2. App and Software Issues:**\n",
            "\n",
            "* **Limited Customization:** The Sound ID system, while praised for its novelty, is often criticized for being worse than the default sound and lacking manual EQ controls.\n",
            "* **App Instability:** Several reviewers mention app crashes and connectivity issues, making the overall user experience frustrating.\n",
            "* **Limited Touch Controls:** Users complain about the limited customization options for tap controls and lack of a single-tap functionality, which can lead to accidental presses or inability to easily control playback.\n",
            "\n",
            "**3. Sound and ANC Performance:**\n",
            "\n",
            "* **Inconsistent ANC:** Some users find the ANC to be underwhelming, especially compared to other earbuds at similar price points.\n",
            "* **Sound Quality Complaints:** While generally praised for its clarity, some reviewers mention lack of bass, volume issues, or a tinny sound.\n",
            "\n",
            "**4. Fit and Comfort:**\n",
            "\n",
            "* **Ear Tip Issues:**  While the overall fit is generally good, some users find the stock ear tips uncomfortable or incompatible with their ears. \n",
            "* **Case Design:** The case's shallow ear tip wells can make it difficult to use third-party tips, limiting users' customization options.\n",
            "\n",
            "**5. Other Minor Issues:**\n",
            "\n",
            "* **Battery Life:** Some users find the battery life to be subpar, especially with ANC enabled.\n",
            "* **Connectivity Issues:** Several reviewers mention Bluetooth connection problems, including disconnecting earbuds or issues switching between devices.\n",
            "* **Call Quality:**  There are complaints regarding call quality, with some users experiencing static or difficulty being heard by the other party.\n",
            "\n",
            "**Overall, while the 1More ComfoBuds Mini offer a unique combination of small size and comfort, these recurring issues with quality control, app functionality, and sound performance are major drawbacks for many users. 1More would need to address these issues in future iterations to make this product truly competitive.** \n",
            "\n"
          ]
        }
      ]
    },
    {
      "cell_type": "markdown",
      "source": [
        "## Section 5: Hands-On Practice\n",
        "\n",
        "Now that you know how to use the Gemini API to gather insights, feel free to experiment as much as possible. Remember: The goal is to understand the voice of the customer through their feedback. By developing effective prompts and interpreting the AI's responses, you can uncover valuable insights that drive better decision-making."
      ],
      "metadata": {
        "id": "n8isBKmYrwpS"
      }
    },
    {
      "cell_type": "code",
      "source": [
        "prompt_message = \"Based on the comments, of all the earbuds, which one seems to have more positive comments and be more favorable overall by users? I am interested in getting realiable earphones with good sound quality.\"\n",
        "insights = analyze_reviews(reviews, api_key, prompt_message)\n",
        "print(insights)"
      ],
      "metadata": {
        "id": "41zVTiVTwxWH",
        "colab": {
          "base_uri": "https://localhost:8080/",
          "height": 466
        },
        "outputId": "6a3fb508-19b0-4d53-f064-eb5091f4b5ea"
      },
      "execution_count": null,
      "outputs": [
        {
          "output_type": "stream",
          "name": "stdout",
          "text": [
            "Based on the comments, the **1More ComfoBuds Mini** earbuds seem to have a mixed bag of reviews, with both positive and negative experiences reported. Here's a breakdown:\n",
            "\n",
            "**Positive Comments:**\n",
            "\n",
            "* **Small Size and Comfort:** Users consistently praise the tiny size and lightweight design, making them comfortable for long periods, especially for side sleepers. \n",
            "* **Sound Quality:**  Many comment on decent sound quality, especially after adjusting the EQ settings via the Sound ID feature.\n",
            "* **Noise Cancellation:**  While not top-tier, the ANC is generally considered effective for everyday use, particularly for blocking out ambient noise.\n",
            "* **Battery Life:** Battery life is considered decent for the size, lasting around 4-5 hours with ANC on.\n",
            "\n",
            "**Negative Comments:**\n",
            "\n",
            "* **Quality Control Issues:** The most significant concern is the recurring issue of one or both earbuds malfunctioning after a short period, often exhibiting reduced volume, static noise, or complete failure.  This suggests potential manufacturing inconsistencies.\n",
            "* **Limited App Functionality:** The app is criticized for its lack of a manual EQ, relying solely on the Sound ID feature, which many find insufficient. \n",
            "* **Touch Controls:** Some users find the touch controls unresponsive or limited in customization options, particularly the lack of single-tap functionality.\n",
            "* **Fit Issues:** While marketed for small ears, some users found them uncomfortable or experienced difficulty finding a secure fit with the included ear tips.\n",
            "\n",
            "**Overall:**\n",
            "\n",
            "While the 1More ComfoBuds Mini earbuds offer a compelling combination of small size, comfort, and decent features at an affordable price, the persistent quality control issues are a major deterrent. Many users report experiencing earbud malfunctions within a few weeks or months, making it difficult to recommend them as a reliable option.\n",
            "\n",
            "**Recommendation:**\n",
            "\n",
            "If you're looking for reliable and high-quality earbuds, consider exploring other brands with a more consistent track record for quality. However, if you value small size and comfort above all else and are willing to risk potential early malfunctions, the 1More ComfoBuds Mini might be worth trying, especially if you can find them at a discounted price.\n",
            "\n"
          ]
        }
      ]
    },
    {
      "cell_type": "markdown",
      "source": [],
      "metadata": {
        "id": "IkqkGzyA2avB"
      }
    },
    {
      "cell_type": "code",
      "source": [
        "prompt_message = \"Can you extract a few comments regarding Beats earbuds from the data set?\"\n",
        "insights = analyze_reviews(reviews, api_key, prompt_message)\n",
        "print(insights)"
      ],
      "metadata": {
        "colab": {
          "base_uri": "https://localhost:8080/",
          "height": 180
        },
        "id": "qrygqFzc2B-s",
        "outputId": "e0f8017f-e47c-4343-c44f-ef82ed28b82a"
      },
      "execution_count": null,
      "outputs": [
        {
          "output_type": "stream",
          "name": "stdout",
          "text": [
            "Here are a few comments regarding Beats earbuds from the dataset: \n",
            "\n",
            "* **\"I needed a replacement for my Galaxy buds pro's that have the fatal ANC \"roar in one ear\" that Samsung won't fix, and they don't stay in the ear.\"** - This comment mentions a user's experience with Samsung earbuds, but it doesn't specifically mention Beats. \n",
            "* **\"I will start by saying this is my first review on Amazon but I was so disappointed I felt I had to put the word out. While not an expensive earbud option I did expect more for the money.\"** - This comment doesn't mention Beats earbuds but expresses disappointment with a product, which could be relevant to the overall discussion of earbuds. \n",
            "* **\"I'm very impressed with these little earbuds. I bought them because I have noisy upstairs neighbors and needed some noise cancelling headphones to help me sleep.\"** - This comment doesn't mention Beats earbuds but focuses on the noise-cancellation feature, which is relevant to the discussion of earbuds. \n",
            "\n",
            "**The dataset doesn't contain any direct comments about Beats earbuds.** The focus of the data is on other brands like 1More, Samsung, Sony, and Airpods.  To find comments about Beats earbuds, you would need a different dataset or search for reviews specifically related to Beats. \n",
            "\n"
          ]
        }
      ]
    }
  ]
}
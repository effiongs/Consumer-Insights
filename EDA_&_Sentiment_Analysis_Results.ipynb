{
  "nbformat": 4,
  "nbformat_minor": 0,
  "metadata": {
    "colab": {
      "provenance": []
    },
    "kernelspec": {
      "name": "python3",
      "display_name": "Python 3"
    },
    "language_info": {
      "name": "python"
    }
  },
  "cells": [
    {
      "cell_type": "markdown",
      "source": [
        "# **Initial EDA With Pandas**"
      ],
      "metadata": {
        "id": "6YqsS1D-9Y26"
      }
    },
    {
      "cell_type": "code",
      "execution_count": null,
      "metadata": {
        "colab": {
          "base_uri": "https://localhost:8080/"
        },
        "id": "MVuhu3kK5lbR",
        "outputId": "2c93d438-0416-4862-8465-d8587c650afa"
      },
      "outputs": [
        {
          "output_type": "stream",
          "name": "stdout",
          "text": [
            "Requirement already satisfied: pandas in /usr/local/lib/python3.10/dist-packages (2.1.4)\n",
            "Requirement already satisfied: numpy<2,>=1.22.4 in /usr/local/lib/python3.10/dist-packages (from pandas) (1.26.4)\n",
            "Requirement already satisfied: python-dateutil>=2.8.2 in /usr/local/lib/python3.10/dist-packages (from pandas) (2.8.2)\n",
            "Requirement already satisfied: pytz>=2020.1 in /usr/local/lib/python3.10/dist-packages (from pandas) (2024.1)\n",
            "Requirement already satisfied: tzdata>=2022.1 in /usr/local/lib/python3.10/dist-packages (from pandas) (2024.1)\n",
            "Requirement already satisfied: six>=1.5 in /usr/local/lib/python3.10/dist-packages (from python-dateutil>=2.8.2->pandas) (1.16.0)\n"
          ]
        }
      ],
      "source": [
        "!pip install pandas\n",
        "import pandas as pd\n",
        "\n"
      ]
    },
    {
      "cell_type": "code",
      "source": [
        "# Load Dataset and Display first few Rows #\n",
        "df = pd.read_csv('AllEars.csv')\n",
        "df.head(3)\n"
      ],
      "metadata": {
        "colab": {
          "base_uri": "https://localhost:8080/",
          "height": 459
        },
        "id": "eKYB52KZQx__",
        "outputId": "6c6f466c-222a-4466-db26-334831762cc2"
      },
      "execution_count": null,
      "outputs": [
        {
          "output_type": "execute_result",
          "data": {
            "text/plain": [
              "   Unnamed: 0       review_id  product_id  \\\n",
              "0       400.0   RUUJJA0TERA67  B096SV8SJG   \n",
              "1       401.0  R3EO2GBST2UICI  B096SV8SJG   \n",
              "2       402.0  R2D114QWXW4IOU  B096SV8SJG   \n",
              "\n",
              "                                               title        author rating  \\\n",
              "0  5.0 out of 5 stars Compared to 4 other Earbuds...        Connor      5   \n",
              "1  5.0 out of 5 stars Initial review and comparis...  philip seitz      5   \n",
              "2           5.0 out of 5 stars I think they’re great         Maizy      5   \n",
              "\n",
              "                                             content  \\\n",
              "0  I bought these earbuds along with 4 other pair...   \n",
              "1  I love these earbuds. They feel definitely wor...   \n",
              "2  I like the sound a lot. I read a previous revi...   \n",
              "\n",
              "                                          timestamp  \\\n",
              "0     Reviewed in the United States August 11, 2022   \n",
              "1  Reviewed in the United States September 28, 2023   \n",
              "2       Reviewed in the United States July 27, 2024   \n",
              "\n",
              "                     profile_id is_verified helpful_count  \\\n",
              "0  AFEITP6Y25NKH3KB2LXWQCC7STIA           1          2277   \n",
              "1  AFMDCDCHBIWSEI6RDYBCY4MXXVZQ           1           562   \n",
              "2  AFRVRGYJJSBAELQK6XVCXXBCJXLA           1             3   \n",
              "\n",
              "                                  product_attributes  \n",
              "0  Color: BlackStyle: Studio BudsSet: Without App...  \n",
              "1  Color: BlackStyle: Studio BudsSet: Without App...  \n",
              "2  Color: BlackStyle: Studio BudsSet: Without App...  "
            ],
            "text/html": [
              "\n",
              "  <div id=\"df-c61c3a08-3695-4dd6-bfe1-e133d1f657b9\" class=\"colab-df-container\">\n",
              "    <div>\n",
              "<style scoped>\n",
              "    .dataframe tbody tr th:only-of-type {\n",
              "        vertical-align: middle;\n",
              "    }\n",
              "\n",
              "    .dataframe tbody tr th {\n",
              "        vertical-align: top;\n",
              "    }\n",
              "\n",
              "    .dataframe thead th {\n",
              "        text-align: right;\n",
              "    }\n",
              "</style>\n",
              "<table border=\"1\" class=\"dataframe\">\n",
              "  <thead>\n",
              "    <tr style=\"text-align: right;\">\n",
              "      <th></th>\n",
              "      <th>Unnamed: 0</th>\n",
              "      <th>review_id</th>\n",
              "      <th>product_id</th>\n",
              "      <th>title</th>\n",
              "      <th>author</th>\n",
              "      <th>rating</th>\n",
              "      <th>content</th>\n",
              "      <th>timestamp</th>\n",
              "      <th>profile_id</th>\n",
              "      <th>is_verified</th>\n",
              "      <th>helpful_count</th>\n",
              "      <th>product_attributes</th>\n",
              "    </tr>\n",
              "  </thead>\n",
              "  <tbody>\n",
              "    <tr>\n",
              "      <th>0</th>\n",
              "      <td>400.0</td>\n",
              "      <td>RUUJJA0TERA67</td>\n",
              "      <td>B096SV8SJG</td>\n",
              "      <td>5.0 out of 5 stars Compared to 4 other Earbuds...</td>\n",
              "      <td>Connor</td>\n",
              "      <td>5</td>\n",
              "      <td>I bought these earbuds along with 4 other pair...</td>\n",
              "      <td>Reviewed in the United States August 11, 2022</td>\n",
              "      <td>AFEITP6Y25NKH3KB2LXWQCC7STIA</td>\n",
              "      <td>1</td>\n",
              "      <td>2277</td>\n",
              "      <td>Color: BlackStyle: Studio BudsSet: Without App...</td>\n",
              "    </tr>\n",
              "    <tr>\n",
              "      <th>1</th>\n",
              "      <td>401.0</td>\n",
              "      <td>R3EO2GBST2UICI</td>\n",
              "      <td>B096SV8SJG</td>\n",
              "      <td>5.0 out of 5 stars Initial review and comparis...</td>\n",
              "      <td>philip seitz</td>\n",
              "      <td>5</td>\n",
              "      <td>I love these earbuds. They feel definitely wor...</td>\n",
              "      <td>Reviewed in the United States September 28, 2023</td>\n",
              "      <td>AFMDCDCHBIWSEI6RDYBCY4MXXVZQ</td>\n",
              "      <td>1</td>\n",
              "      <td>562</td>\n",
              "      <td>Color: BlackStyle: Studio BudsSet: Without App...</td>\n",
              "    </tr>\n",
              "    <tr>\n",
              "      <th>2</th>\n",
              "      <td>402.0</td>\n",
              "      <td>R2D114QWXW4IOU</td>\n",
              "      <td>B096SV8SJG</td>\n",
              "      <td>5.0 out of 5 stars I think they’re great</td>\n",
              "      <td>Maizy</td>\n",
              "      <td>5</td>\n",
              "      <td>I like the sound a lot. I read a previous revi...</td>\n",
              "      <td>Reviewed in the United States July 27, 2024</td>\n",
              "      <td>AFRVRGYJJSBAELQK6XVCXXBCJXLA</td>\n",
              "      <td>1</td>\n",
              "      <td>3</td>\n",
              "      <td>Color: BlackStyle: Studio BudsSet: Without App...</td>\n",
              "    </tr>\n",
              "  </tbody>\n",
              "</table>\n",
              "</div>\n",
              "    <div class=\"colab-df-buttons\">\n",
              "\n",
              "  <div class=\"colab-df-container\">\n",
              "    <button class=\"colab-df-convert\" onclick=\"convertToInteractive('df-c61c3a08-3695-4dd6-bfe1-e133d1f657b9')\"\n",
              "            title=\"Convert this dataframe to an interactive table.\"\n",
              "            style=\"display:none;\">\n",
              "\n",
              "  <svg xmlns=\"http://www.w3.org/2000/svg\" height=\"24px\" viewBox=\"0 -960 960 960\">\n",
              "    <path d=\"M120-120v-720h720v720H120Zm60-500h600v-160H180v160Zm220 220h160v-160H400v160Zm0 220h160v-160H400v160ZM180-400h160v-160H180v160Zm440 0h160v-160H620v160ZM180-180h160v-160H180v160Zm440 0h160v-160H620v160Z\"/>\n",
              "  </svg>\n",
              "    </button>\n",
              "\n",
              "  <style>\n",
              "    .colab-df-container {\n",
              "      display:flex;\n",
              "      gap: 12px;\n",
              "    }\n",
              "\n",
              "    .colab-df-convert {\n",
              "      background-color: #E8F0FE;\n",
              "      border: none;\n",
              "      border-radius: 50%;\n",
              "      cursor: pointer;\n",
              "      display: none;\n",
              "      fill: #1967D2;\n",
              "      height: 32px;\n",
              "      padding: 0 0 0 0;\n",
              "      width: 32px;\n",
              "    }\n",
              "\n",
              "    .colab-df-convert:hover {\n",
              "      background-color: #E2EBFA;\n",
              "      box-shadow: 0px 1px 2px rgba(60, 64, 67, 0.3), 0px 1px 3px 1px rgba(60, 64, 67, 0.15);\n",
              "      fill: #174EA6;\n",
              "    }\n",
              "\n",
              "    .colab-df-buttons div {\n",
              "      margin-bottom: 4px;\n",
              "    }\n",
              "\n",
              "    [theme=dark] .colab-df-convert {\n",
              "      background-color: #3B4455;\n",
              "      fill: #D2E3FC;\n",
              "    }\n",
              "\n",
              "    [theme=dark] .colab-df-convert:hover {\n",
              "      background-color: #434B5C;\n",
              "      box-shadow: 0px 1px 3px 1px rgba(0, 0, 0, 0.15);\n",
              "      filter: drop-shadow(0px 1px 2px rgba(0, 0, 0, 0.3));\n",
              "      fill: #FFFFFF;\n",
              "    }\n",
              "  </style>\n",
              "\n",
              "    <script>\n",
              "      const buttonEl =\n",
              "        document.querySelector('#df-c61c3a08-3695-4dd6-bfe1-e133d1f657b9 button.colab-df-convert');\n",
              "      buttonEl.style.display =\n",
              "        google.colab.kernel.accessAllowed ? 'block' : 'none';\n",
              "\n",
              "      async function convertToInteractive(key) {\n",
              "        const element = document.querySelector('#df-c61c3a08-3695-4dd6-bfe1-e133d1f657b9');\n",
              "        const dataTable =\n",
              "          await google.colab.kernel.invokeFunction('convertToInteractive',\n",
              "                                                    [key], {});\n",
              "        if (!dataTable) return;\n",
              "\n",
              "        const docLinkHtml = 'Like what you see? Visit the ' +\n",
              "          '<a target=\"_blank\" href=https://colab.research.google.com/notebooks/data_table.ipynb>data table notebook</a>'\n",
              "          + ' to learn more about interactive tables.';\n",
              "        element.innerHTML = '';\n",
              "        dataTable['output_type'] = 'display_data';\n",
              "        await google.colab.output.renderOutput(dataTable, element);\n",
              "        const docLink = document.createElement('div');\n",
              "        docLink.innerHTML = docLinkHtml;\n",
              "        element.appendChild(docLink);\n",
              "      }\n",
              "    </script>\n",
              "  </div>\n",
              "\n",
              "\n",
              "<div id=\"df-605412db-5044-433d-a6fa-4c7b7e257d09\">\n",
              "  <button class=\"colab-df-quickchart\" onclick=\"quickchart('df-605412db-5044-433d-a6fa-4c7b7e257d09')\"\n",
              "            title=\"Suggest charts\"\n",
              "            style=\"display:none;\">\n",
              "\n",
              "<svg xmlns=\"http://www.w3.org/2000/svg\" height=\"24px\"viewBox=\"0 0 24 24\"\n",
              "     width=\"24px\">\n",
              "    <g>\n",
              "        <path d=\"M19 3H5c-1.1 0-2 .9-2 2v14c0 1.1.9 2 2 2h14c1.1 0 2-.9 2-2V5c0-1.1-.9-2-2-2zM9 17H7v-7h2v7zm4 0h-2V7h2v10zm4 0h-2v-4h2v4z\"/>\n",
              "    </g>\n",
              "</svg>\n",
              "  </button>\n",
              "\n",
              "<style>\n",
              "  .colab-df-quickchart {\n",
              "      --bg-color: #E8F0FE;\n",
              "      --fill-color: #1967D2;\n",
              "      --hover-bg-color: #E2EBFA;\n",
              "      --hover-fill-color: #174EA6;\n",
              "      --disabled-fill-color: #AAA;\n",
              "      --disabled-bg-color: #DDD;\n",
              "  }\n",
              "\n",
              "  [theme=dark] .colab-df-quickchart {\n",
              "      --bg-color: #3B4455;\n",
              "      --fill-color: #D2E3FC;\n",
              "      --hover-bg-color: #434B5C;\n",
              "      --hover-fill-color: #FFFFFF;\n",
              "      --disabled-bg-color: #3B4455;\n",
              "      --disabled-fill-color: #666;\n",
              "  }\n",
              "\n",
              "  .colab-df-quickchart {\n",
              "    background-color: var(--bg-color);\n",
              "    border: none;\n",
              "    border-radius: 50%;\n",
              "    cursor: pointer;\n",
              "    display: none;\n",
              "    fill: var(--fill-color);\n",
              "    height: 32px;\n",
              "    padding: 0;\n",
              "    width: 32px;\n",
              "  }\n",
              "\n",
              "  .colab-df-quickchart:hover {\n",
              "    background-color: var(--hover-bg-color);\n",
              "    box-shadow: 0 1px 2px rgba(60, 64, 67, 0.3), 0 1px 3px 1px rgba(60, 64, 67, 0.15);\n",
              "    fill: var(--button-hover-fill-color);\n",
              "  }\n",
              "\n",
              "  .colab-df-quickchart-complete:disabled,\n",
              "  .colab-df-quickchart-complete:disabled:hover {\n",
              "    background-color: var(--disabled-bg-color);\n",
              "    fill: var(--disabled-fill-color);\n",
              "    box-shadow: none;\n",
              "  }\n",
              "\n",
              "  .colab-df-spinner {\n",
              "    border: 2px solid var(--fill-color);\n",
              "    border-color: transparent;\n",
              "    border-bottom-color: var(--fill-color);\n",
              "    animation:\n",
              "      spin 1s steps(1) infinite;\n",
              "  }\n",
              "\n",
              "  @keyframes spin {\n",
              "    0% {\n",
              "      border-color: transparent;\n",
              "      border-bottom-color: var(--fill-color);\n",
              "      border-left-color: var(--fill-color);\n",
              "    }\n",
              "    20% {\n",
              "      border-color: transparent;\n",
              "      border-left-color: var(--fill-color);\n",
              "      border-top-color: var(--fill-color);\n",
              "    }\n",
              "    30% {\n",
              "      border-color: transparent;\n",
              "      border-left-color: var(--fill-color);\n",
              "      border-top-color: var(--fill-color);\n",
              "      border-right-color: var(--fill-color);\n",
              "    }\n",
              "    40% {\n",
              "      border-color: transparent;\n",
              "      border-right-color: var(--fill-color);\n",
              "      border-top-color: var(--fill-color);\n",
              "    }\n",
              "    60% {\n",
              "      border-color: transparent;\n",
              "      border-right-color: var(--fill-color);\n",
              "    }\n",
              "    80% {\n",
              "      border-color: transparent;\n",
              "      border-right-color: var(--fill-color);\n",
              "      border-bottom-color: var(--fill-color);\n",
              "    }\n",
              "    90% {\n",
              "      border-color: transparent;\n",
              "      border-bottom-color: var(--fill-color);\n",
              "    }\n",
              "  }\n",
              "</style>\n",
              "\n",
              "  <script>\n",
              "    async function quickchart(key) {\n",
              "      const quickchartButtonEl =\n",
              "        document.querySelector('#' + key + ' button');\n",
              "      quickchartButtonEl.disabled = true;  // To prevent multiple clicks.\n",
              "      quickchartButtonEl.classList.add('colab-df-spinner');\n",
              "      try {\n",
              "        const charts = await google.colab.kernel.invokeFunction(\n",
              "            'suggestCharts', [key], {});\n",
              "      } catch (error) {\n",
              "        console.error('Error during call to suggestCharts:', error);\n",
              "      }\n",
              "      quickchartButtonEl.classList.remove('colab-df-spinner');\n",
              "      quickchartButtonEl.classList.add('colab-df-quickchart-complete');\n",
              "    }\n",
              "    (() => {\n",
              "      let quickchartButtonEl =\n",
              "        document.querySelector('#df-605412db-5044-433d-a6fa-4c7b7e257d09 button');\n",
              "      quickchartButtonEl.style.display =\n",
              "        google.colab.kernel.accessAllowed ? 'block' : 'none';\n",
              "    })();\n",
              "  </script>\n",
              "</div>\n",
              "\n",
              "    </div>\n",
              "  </div>\n"
            ],
            "application/vnd.google.colaboratory.intrinsic+json": {
              "type": "dataframe",
              "variable_name": "df",
              "summary": "{\n  \"name\": \"df\",\n  \"rows\": 1001,\n  \"fields\": [\n    {\n      \"column\": \"Unnamed: 0\",\n      \"properties\": {\n        \"dtype\": \"number\",\n        \"std\": 288.8194360957494,\n        \"min\": 0.0,\n        \"max\": 999.0,\n        \"num_unique_values\": 1000,\n        \"samples\": [\n          521.0,\n          737.0,\n          740.0\n        ],\n        \"semantic_type\": \"\",\n        \"description\": \"\"\n      }\n    },\n    {\n      \"column\": \"review_id\",\n      \"properties\": {\n        \"dtype\": \"string\",\n        \"num_unique_values\": 1001,\n        \"samples\": [\n          \"RP1RC91WM536B\",\n          \"R2FJH4KF9BJNUU\",\n          \"RSK7Q8VWD67T5\"\n        ],\n        \"semantic_type\": \"\",\n        \"description\": \"\"\n      }\n    },\n    {\n      \"column\": \"product_id\",\n      \"properties\": {\n        \"dtype\": \"category\",\n        \"num_unique_values\": 11,\n        \"samples\": [\n          \"B09HN594TL\",\n          \"B096SV8SJG\",\n          \"B0BYPFNW6T\"\n        ],\n        \"semantic_type\": \"\",\n        \"description\": \"\"\n      }\n    },\n    {\n      \"column\": \"title\",\n      \"properties\": {\n        \"dtype\": \"string\",\n        \"num_unique_values\": 959,\n        \"samples\": [\n          \"3.0 out of 5 stars Can't recommend them unless you're on a tight budget\",\n          \"5.0 out of 5 stars Love these little ear pods\",\n          \"5.0 out of 5 stars Great sound at the right price\"\n        ],\n        \"semantic_type\": \"\",\n        \"description\": \"\"\n      }\n    },\n    {\n      \"column\": \"author\",\n      \"properties\": {\n        \"dtype\": \"string\",\n        \"num_unique_values\": 920,\n        \"samples\": [\n          \"Darber\",\n          \"MayBae\",\n          \"Colleen\"\n        ],\n        \"semantic_type\": \"\",\n        \"description\": \"\"\n      }\n    },\n    {\n      \"column\": \"rating\",\n      \"properties\": {\n        \"dtype\": \"category\",\n        \"num_unique_values\": 6,\n        \"samples\": [\n          \"5\",\n          \"4\",\n          \"2\"\n        ],\n        \"semantic_type\": \"\",\n        \"description\": \"\"\n      }\n    },\n    {\n      \"column\": \"content\",\n      \"properties\": {\n        \"dtype\": \"string\",\n        \"num_unique_values\": 998,\n        \"samples\": [\n          \"I got these headphones during Amazon prime day. I am pleasantly surprised with how easy they are to pair with my phone, computer and on the peloton. The sound quality is great and the ear buds stay in during power walks and other cardio workouts.\",\n          \"Case won't charge headset is my only issue other then that they work great\",\n          \"I have a peculiar penchant when it comes to earbuds. I like them to be compact to fit under my helmet, have loud enough clarity that I can hear them over my bike's engine, be touch sentitive and not a button, and most importantly, be able to skip song tracks with a long button press as opposed to a double click. These fit every single box. They even make a light to let you know when you've changed tracks. This is important to me so I can tell when I successfully did skip to the next song and not accidentally pause my music instead. They were so close to perfection. Except for one major problem that ruins it for me. Any small drop, matter how light, will break it. I once dropped a bud while sitting down onto thick carpet and the sound went out in it. All other functions worked except it made no noise. I figured I got a defective product and Amazon was happy to replace it. I loved my second one until I dropped it on my bed and the earbud died again. If the maker made them any more durable, I would happily buy a third pair. They have good sound quality, are compact, great battery life, and have all the functions I want. However, any drop over 15 inches, no matter the surface will break their sound. Every other function in that dropped earbud will work but it will be completely muted. I truly wish I could give this product the 5 stars it deserves but after going through two of the same earbuds with the same issue, I simply can't do so. I gave it 2 stars instead of 1 solely because of the audio and ticking off all my boxes. Unfortunately, because of it's fragility, I can't give it any better. I wish I could but a 15.3 inch fall into my mattress should not be enough to kill it.\"\n        ],\n        \"semantic_type\": \"\",\n        \"description\": \"\"\n      }\n    },\n    {\n      \"column\": \"timestamp\",\n      \"properties\": {\n        \"dtype\": \"category\",\n        \"num_unique_values\": 455,\n        \"samples\": [\n          \"Reviewed in the United States January 22, 2024\",\n          \"Reviewed in the United States July 19, 2024\",\n          \"Reviewed in the United States May 26, 2024\"\n        ],\n        \"semantic_type\": \"\",\n        \"description\": \"\"\n      }\n    },\n    {\n      \"column\": \"profile_id\",\n      \"properties\": {\n        \"dtype\": \"string\",\n        \"num_unique_values\": 1001,\n        \"samples\": [\n          \"AHSMCI5GVEWMNGSLNZY2YFF7HOMQ\",\n          \"AFUKD2VT265Q2AIDLZZDA6JBUVMQ\",\n          \"AGXO6L6R4MBKTHVEAUJUI7C5O3SQ\"\n        ],\n        \"semantic_type\": \"\",\n        \"description\": \"\"\n      }\n    },\n    {\n      \"column\": \"is_verified\",\n      \"properties\": {\n        \"dtype\": \"category\",\n        \"num_unique_values\": 3,\n        \"samples\": [\n          \"1\",\n          \"is_verified\",\n          \"0\"\n        ],\n        \"semantic_type\": \"\",\n        \"description\": \"\"\n      }\n    },\n    {\n      \"column\": \"helpful_count\",\n      \"properties\": {\n        \"dtype\": \"category\",\n        \"num_unique_values\": 50,\n        \"samples\": [\n          \"6\",\n          \"44\",\n          \"26\"\n        ],\n        \"semantic_type\": \"\",\n        \"description\": \"\"\n      }\n    },\n    {\n      \"column\": \"product_attributes\",\n      \"properties\": {\n        \"dtype\": \"category\",\n        \"num_unique_values\": 36,\n        \"samples\": [\n          \"Color: Oat White\",\n          \"Color: BlackStyle: Pop\",\n          \"Color: NavyStyle: Pop\"\n        ],\n        \"semantic_type\": \"\",\n        \"description\": \"\"\n      }\n    }\n  ]\n}"
            }
          },
          "metadata": {},
          "execution_count": 41
        }
      ]
    },
    {
      "cell_type": "code",
      "source": [
        "data = df.dropna(inplace = True)\n",
        "df.isnull().sum()\n",
        "duplicates = df.drop_duplicates()\n",
        "df['rating'] = df['rating'].astype(float)"
      ],
      "metadata": {
        "id": "aTFip7LCKWWu"
      },
      "execution_count": null,
      "outputs": []
    },
    {
      "cell_type": "code",
      "source": [
        "# Descriptive Statistics as Function #\n",
        "!pip install numpy\n",
        "import numpy as np\n",
        "import scipy.stats as stats\n",
        "\n",
        "mean = df[\"rating\"].mean()\n",
        "median = df['rating'].median()\n",
        "mode = df['rating'].mode()\n",
        "variance = df['rating'].var()\n",
        "print(mean)\n",
        "print(median)\n",
        "print(mode)\n",
        "print(variance)\n"
      ],
      "metadata": {
        "colab": {
          "base_uri": "https://localhost:8080/"
        },
        "id": "au_kGN2b7XRF",
        "outputId": "42213797-b074-46fa-89f9-11b8129ace57"
      },
      "execution_count": null,
      "outputs": [
        {
          "output_type": "stream",
          "name": "stdout",
          "text": [
            "Requirement already satisfied: numpy in /usr/local/lib/python3.10/dist-packages (1.26.4)\n",
            "4.1506228765571915\n",
            "4.0\n",
            "0    5.0\n",
            "Name: rating, dtype: float64\n",
            "1.1507564143060018\n"
          ]
        }
      ]
    },
    {
      "cell_type": "code",
      "source": [
        "from collections.abc import ValuesView\n",
        "#Identify Missing Values#\n",
        "df.isnull().sum()"
      ],
      "metadata": {
        "colab": {
          "base_uri": "https://localhost:8080/",
          "height": 460
        },
        "id": "hFKxoKt28kSU",
        "outputId": "788895b5-a818-4758-e20c-0cd7a85e3e28"
      },
      "execution_count": null,
      "outputs": [
        {
          "output_type": "execute_result",
          "data": {
            "text/plain": [
              "Unnamed: 0            0\n",
              "review_id             0\n",
              "product_id            0\n",
              "title                 0\n",
              "author                0\n",
              "rating                0\n",
              "content               0\n",
              "timestamp             0\n",
              "profile_id            0\n",
              "is_verified           0\n",
              "helpful_count         0\n",
              "product_attributes    0\n",
              "dtype: int64"
            ],
            "text/html": [
              "<div>\n",
              "<style scoped>\n",
              "    .dataframe tbody tr th:only-of-type {\n",
              "        vertical-align: middle;\n",
              "    }\n",
              "\n",
              "    .dataframe tbody tr th {\n",
              "        vertical-align: top;\n",
              "    }\n",
              "\n",
              "    .dataframe thead th {\n",
              "        text-align: right;\n",
              "    }\n",
              "</style>\n",
              "<table border=\"1\" class=\"dataframe\">\n",
              "  <thead>\n",
              "    <tr style=\"text-align: right;\">\n",
              "      <th></th>\n",
              "      <th>0</th>\n",
              "    </tr>\n",
              "  </thead>\n",
              "  <tbody>\n",
              "    <tr>\n",
              "      <th>Unnamed: 0</th>\n",
              "      <td>0</td>\n",
              "    </tr>\n",
              "    <tr>\n",
              "      <th>review_id</th>\n",
              "      <td>0</td>\n",
              "    </tr>\n",
              "    <tr>\n",
              "      <th>product_id</th>\n",
              "      <td>0</td>\n",
              "    </tr>\n",
              "    <tr>\n",
              "      <th>title</th>\n",
              "      <td>0</td>\n",
              "    </tr>\n",
              "    <tr>\n",
              "      <th>author</th>\n",
              "      <td>0</td>\n",
              "    </tr>\n",
              "    <tr>\n",
              "      <th>rating</th>\n",
              "      <td>0</td>\n",
              "    </tr>\n",
              "    <tr>\n",
              "      <th>content</th>\n",
              "      <td>0</td>\n",
              "    </tr>\n",
              "    <tr>\n",
              "      <th>timestamp</th>\n",
              "      <td>0</td>\n",
              "    </tr>\n",
              "    <tr>\n",
              "      <th>profile_id</th>\n",
              "      <td>0</td>\n",
              "    </tr>\n",
              "    <tr>\n",
              "      <th>is_verified</th>\n",
              "      <td>0</td>\n",
              "    </tr>\n",
              "    <tr>\n",
              "      <th>helpful_count</th>\n",
              "      <td>0</td>\n",
              "    </tr>\n",
              "    <tr>\n",
              "      <th>product_attributes</th>\n",
              "      <td>0</td>\n",
              "    </tr>\n",
              "  </tbody>\n",
              "</table>\n",
              "</div><br><label><b>dtype:</b> int64</label>"
            ]
          },
          "metadata": {},
          "execution_count": 17
        }
      ]
    },
    {
      "cell_type": "code",
      "source": [
        "# Check for duplicates#\n",
        "df.duplicated().sum()"
      ],
      "metadata": {
        "colab": {
          "base_uri": "https://localhost:8080/"
        },
        "id": "dLwv3Xdi8712",
        "outputId": "9252233a-820f-4f49-fd47-370864849692"
      },
      "execution_count": null,
      "outputs": [
        {
          "output_type": "execute_result",
          "data": {
            "text/plain": [
              "0"
            ]
          },
          "metadata": {},
          "execution_count": 18
        }
      ]
    },
    {
      "cell_type": "markdown",
      "source": [
        "# **Data Visualization **\n",
        "\n",
        "\n",
        "\n",
        "\n"
      ],
      "metadata": {
        "id": "wnnTkSRc9j4Z"
      }
    },
    {
      "cell_type": "code",
      "source": [
        "# Create a Histogram #\n",
        "import matplotlib.pyplot as plt\n",
        "df = pd.read_csv('AllEars.csv')\n",
        "plt.hist(df['rating'], bins = 20)\n",
        "plt.title('Histogram of Stars')\n",
        "plt.xlabel('Rating')\n",
        "plt.ylabel('Frequency')\n",
        "plt.show()\n"
      ],
      "metadata": {
        "colab": {
          "base_uri": "https://localhost:8080/",
          "height": 472
        },
        "id": "X0X2YVnK9og4",
        "outputId": "d1ef3a2d-85c3-44da-972b-65550016829f"
      },
      "execution_count": null,
      "outputs": [
        {
          "output_type": "display_data",
          "data": {
            "text/plain": [
              "<Figure size 640x480 with 1 Axes>"
            ],
            "image/png": "[encoded data removed]"
          },
          "metadata": {}
        }
      ]
    },
    {
      "cell_type": "code",
      "source": [
        "# Box Plot #\n",
        "import seaborn as sns\n",
        "sns.boxplot(x='product_id', y=\"rating\", data = df)\n",
        "plt.title('Star Ratings by Product')\n",
        "plt.xlabel('Product')\n",
        "plt.ylabel('Rating')\n",
        "plt.xticks(rotation=90)\n",
        "plt.show()\n"
      ],
      "metadata": {
        "colab": {
          "base_uri": "https://localhost:8080/",
          "height": 552
        },
        "id": "ZBNYJ_a6FHyR",
        "outputId": "604c0c85-216d-4729-810e-563b55a1a8fe"
      },
      "execution_count": null,
      "outputs": [
        {
          "output_type": "display_data",
          "data": {
            "text/plain": [
              "<Figure size 640x480 with 1 Axes>"
            ],
            "image/png": "[encoded data removed]"
          },
          "metadata": {}
        }
      ]
    },
    {
      "cell_type": "code",
      "source": [
        "#Bar Chart#\n",
        "plt.bar(df['rating'], df['helpful_count'])\n",
        "plt.title('Star Ratings by Helpful Count')\n",
        "plt.xlabel('Rating')\n",
        "plt.ylabel('Helpful Count')\n",
        "plt.show()"
      ],
      "metadata": {
        "colab": {
          "base_uri": "https://localhost:8080/",
          "height": 472
        },
        "id": "jNtShy4Kg1TZ",
        "outputId": "d9de2460-5407-40cd-968b-51071e7e8e2c"
      },
      "execution_count": null,
      "outputs": [
        {
          "output_type": "display_data",
          "data": {
            "text/plain": [
              "<Figure size 640x480 with 1 Axes>"
            ],
            "image/png": "[encoded data removed]"
          },
          "metadata": {}
        }
      ]
    },
    {
      "cell_type": "markdown",
      "source": [
        "# **Correlation Analysis **"
      ],
      "metadata": {
        "id": "aH3Ozf4JjZgQ"
      }
    },
    {
      "cell_type": "code",
      "source": [
        "print(df.dtypes)"
      ],
      "metadata": {
        "colab": {
          "base_uri": "https://localhost:8080/"
        },
        "id": "mWPMlyFqAP98",
        "outputId": "15869513-0a17-4325-eb35-3369de2acac9"
      },
      "execution_count": null,
      "outputs": [
        {
          "output_type": "stream",
          "name": "stdout",
          "text": [
            "Unnamed: 0            float64\n",
            "review_id              object\n",
            "product_id             object\n",
            "title                  object\n",
            "author                 object\n",
            "rating                float64\n",
            "content                object\n",
            "timestamp              object\n",
            "profile_id             object\n",
            "is_verified            object\n",
            "helpful_count          object\n",
            "product_attributes     object\n",
            "dtype: object\n"
          ]
        }
      ]
    },
    {
      "cell_type": "code",
      "source": [
        "# Correlation Matrix #\n",
        "import numpy as np\n",
        "from scipy.stats import pearsonr\n",
        "df.drop('product_attributes', axis=1, inplace=True)\n",
        "correlation_matrix = df.corr()\n",
        "print(\"correlation_matrix:\\\\n\", correlation_matrix)"
      ],
      "metadata": {
        "colab": {
          "base_uri": "https://localhost:8080/"
        },
        "id": "9jpFb0W1jbCq",
        "outputId": "db356d34-8514-405d-e747-5b4bbabd8a2e"
      },
      "execution_count": null,
      "outputs": [
        {
          "output_type": "stream",
          "name": "stdout",
          "text": [
            "correlation_matrix:\\n                  rating  helpful_count\n",
            "rating         1.000000       0.022209\n",
            "helpful_count  0.022209       1.000000\n"
          ]
        }
      ]
    },
    {
      "cell_type": "code",
      "source": [
        "# Visualizing Correlation Matrix #\n",
        "import seaborn as sns\n",
        "sns.heatmap(correlation_matrix, annot=True, fmt=\".2f\", cmap='coolwarm')\n",
        "plt.title('Correlation Matrix')\n",
        "plt.show()"
      ],
      "metadata": {
        "colab": {
          "base_uri": "https://localhost:8080/",
          "height": 452
        },
        "id": "yxMWWZ8kkazp",
        "outputId": "2707a142-7ce1-4b1c-f6db-cfa2f49bb296"
      },
      "execution_count": null,
      "outputs": [
        {
          "output_type": "display_data",
          "data": {
            "text/plain": [
              "<Figure size 640x480 with 2 Axes>"
            ],
            "image/png": "[encoded data removed]"
          },
          "metadata": {}
        }
      ]
    },
    {
      "cell_type": "markdown",
      "source": [
        "# **Sentiment Analysis**\n",
        "• Perform sentiment analysis on the text reviews. • Classify the reviews into positive, negative, and neutral sentiments. • Aggregate the sentiment scores to assess overall consumer sentiment."
      ],
      "metadata": {
        "id": "gC6NL9A1KEVg"
      }
    },
    {
      "cell_type": "code",
      "source": [
        "df = pd.read_csv('AllEars.csv')\n",
        "df['content'] = df['content'].astype('string')\n",
        "df.dtypes\n",
        "df.head()\n"
      ],
      "metadata": {
        "colab": {
          "base_uri": "https://localhost:8080/",
          "height": 712
        },
        "id": "gH9VYlFtMUOu",
        "outputId": "44bd2a2e-d551-445f-9170-09f1bde9cd9d"
      },
      "execution_count": null,
      "outputs": [
        {
          "output_type": "execute_result",
          "data": {
            "text/plain": [
              "   Unnamed: 0       review_id  product_id  \\\n",
              "0       400.0   RUUJJA0TERA67  B096SV8SJG   \n",
              "1       401.0  R3EO2GBST2UICI  B096SV8SJG   \n",
              "2       402.0  R2D114QWXW4IOU  B096SV8SJG   \n",
              "3       403.0  R29LYUZ7DI2CS6  B096SV8SJG   \n",
              "4       404.0   RRC5SI8P44LH4  B096SV8SJG   \n",
              "\n",
              "                                               title        author rating  \\\n",
              "0  5.0 out of 5 stars Compared to 4 other Earbuds...        Connor      5   \n",
              "1  5.0 out of 5 stars Initial review and comparis...  philip seitz      5   \n",
              "2           5.0 out of 5 stars I think they’re great         Maizy      5   \n",
              "3  4.0 out of 5 stars Quality sound and build, BU...       Everest      4   \n",
              "4  5.0 out of 5 stars Excellent -- Budget Friendl...   Mary Trotta      5   \n",
              "\n",
              "                                             content  \\\n",
              "0  I bought these earbuds along with 4 other pair...   \n",
              "1  I love these earbuds. They feel definitely wor...   \n",
              "2  I like the sound a lot. I read a previous revi...   \n",
              "3  After using these for a couple weeks straight,...   \n",
              "4  Been a few months (May 2024) since the purchas...   \n",
              "\n",
              "                                          timestamp  \\\n",
              "0     Reviewed in the United States August 11, 2022   \n",
              "1  Reviewed in the United States September 28, 2023   \n",
              "2       Reviewed in the United States July 27, 2024   \n",
              "3      Reviewed in the United States August 3, 2024   \n",
              "4       Reviewed in the United States July 21, 2024   \n",
              "\n",
              "                     profile_id is_verified helpful_count  \\\n",
              "0  AFEITP6Y25NKH3KB2LXWQCC7STIA           1          2277   \n",
              "1  AFMDCDCHBIWSEI6RDYBCY4MXXVZQ           1           562   \n",
              "2  AFRVRGYJJSBAELQK6XVCXXBCJXLA           1             3   \n",
              "3  AEDBORE5CT34E6D7QVXFZW5ZERCA           1             0   \n",
              "4  AGRC63RAW4DZCOTB2NDTUFP7SRFA           1             3   \n",
              "\n",
              "                                  product_attributes  \n",
              "0  Color: BlackStyle: Studio BudsSet: Without App...  \n",
              "1  Color: BlackStyle: Studio BudsSet: Without App...  \n",
              "2  Color: BlackStyle: Studio BudsSet: Without App...  \n",
              "3  Color: BlackStyle: Studio BudsSet: Without App...  \n",
              "4  Color: Sunset PinkStyle: Studio BudsSet: Witho...  "
            ],
            "text/html": [
              "\n",
              "  <div id=\"df-62584f65-306e-489f-a89d-7638fa4550a5\" class=\"colab-df-container\">\n",
              "    <div>\n",
              "<style scoped>\n",
              "    .dataframe tbody tr th:only-of-type {\n",
              "        vertical-align: middle;\n",
              "    }\n",
              "\n",
              "    .dataframe tbody tr th {\n",
              "        vertical-align: top;\n",
              "    }\n",
              "\n",
              "    .dataframe thead th {\n",
              "        text-align: right;\n",
              "    }\n",
              "</style>\n",
              "<table border=\"1\" class=\"dataframe\">\n",
              "  <thead>\n",
              "    <tr style=\"text-align: right;\">\n",
              "      <th></th>\n",
              "      <th>Unnamed: 0</th>\n",
              "      <th>review_id</th>\n",
              "      <th>product_id</th>\n",
              "      <th>title</th>\n",
              "      <th>author</th>\n",
              "      <th>rating</th>\n",
              "      <th>content</th>\n",
              "      <th>timestamp</th>\n",
              "      <th>profile_id</th>\n",
              "      <th>is_verified</th>\n",
              "      <th>helpful_count</th>\n",
              "      <th>product_attributes</th>\n",
              "    </tr>\n",
              "  </thead>\n",
              "  <tbody>\n",
              "    <tr>\n",
              "      <th>0</th>\n",
              "      <td>400.0</td>\n",
              "      <td>RUUJJA0TERA67</td>\n",
              "      <td>B096SV8SJG</td>\n",
              "      <td>5.0 out of 5 stars Compared to 4 other Earbuds...</td>\n",
              "      <td>Connor</td>\n",
              "      <td>5</td>\n",
              "      <td>I bought these earbuds along with 4 other pair...</td>\n",
              "      <td>Reviewed in the United States August 11, 2022</td>\n",
              "      <td>AFEITP6Y25NKH3KB2LXWQCC7STIA</td>\n",
              "      <td>1</td>\n",
              "      <td>2277</td>\n",
              "      <td>Color: BlackStyle: Studio BudsSet: Without App...</td>\n",
              "    </tr>\n",
              "    <tr>\n",
              "      <th>1</th>\n",
              "      <td>401.0</td>\n",
              "      <td>R3EO2GBST2UICI</td>\n",
              "      <td>B096SV8SJG</td>\n",
              "      <td>5.0 out of 5 stars Initial review and comparis...</td>\n",
              "      <td>philip seitz</td>\n",
              "      <td>5</td>\n",
              "      <td>I love these earbuds. They feel definitely wor...</td>\n",
              "      <td>Reviewed in the United States September 28, 2023</td>\n",
              "      <td>AFMDCDCHBIWSEI6RDYBCY4MXXVZQ</td>\n",
              "      <td>1</td>\n",
              "      <td>562</td>\n",
              "      <td>Color: BlackStyle: Studio BudsSet: Without App...</td>\n",
              "    </tr>\n",
              "    <tr>\n",
              "      <th>2</th>\n",
              "      <td>402.0</td>\n",
              "      <td>R2D114QWXW4IOU</td>\n",
              "      <td>B096SV8SJG</td>\n",
              "      <td>5.0 out of 5 stars I think they’re great</td>\n",
              "      <td>Maizy</td>\n",
              "      <td>5</td>\n",
              "      <td>I like the sound a lot. I read a previous revi...</td>\n",
              "      <td>Reviewed in the United States July 27, 2024</td>\n",
              "      <td>AFRVRGYJJSBAELQK6XVCXXBCJXLA</td>\n",
              "      <td>1</td>\n",
              "      <td>3</td>\n",
              "      <td>Color: BlackStyle: Studio BudsSet: Without App...</td>\n",
              "    </tr>\n",
              "    <tr>\n",
              "      <th>3</th>\n",
              "      <td>403.0</td>\n",
              "      <td>R29LYUZ7DI2CS6</td>\n",
              "      <td>B096SV8SJG</td>\n",
              "      <td>4.0 out of 5 stars Quality sound and build, BU...</td>\n",
              "      <td>Everest</td>\n",
              "      <td>4</td>\n",
              "      <td>After using these for a couple weeks straight,...</td>\n",
              "      <td>Reviewed in the United States August 3, 2024</td>\n",
              "      <td>AEDBORE5CT34E6D7QVXFZW5ZERCA</td>\n",
              "      <td>1</td>\n",
              "      <td>0</td>\n",
              "      <td>Color: BlackStyle: Studio BudsSet: Without App...</td>\n",
              "    </tr>\n",
              "    <tr>\n",
              "      <th>4</th>\n",
              "      <td>404.0</td>\n",
              "      <td>RRC5SI8P44LH4</td>\n",
              "      <td>B096SV8SJG</td>\n",
              "      <td>5.0 out of 5 stars Excellent -- Budget Friendl...</td>\n",
              "      <td>Mary Trotta</td>\n",
              "      <td>5</td>\n",
              "      <td>Been a few months (May 2024) since the purchas...</td>\n",
              "      <td>Reviewed in the United States July 21, 2024</td>\n",
              "      <td>AGRC63RAW4DZCOTB2NDTUFP7SRFA</td>\n",
              "      <td>1</td>\n",
              "      <td>3</td>\n",
              "      <td>Color: Sunset PinkStyle: Studio BudsSet: Witho...</td>\n",
              "    </tr>\n",
              "  </tbody>\n",
              "</table>\n",
              "</div>\n",
              "    <div class=\"colab-df-buttons\">\n",
              "\n",
              "  <div class=\"colab-df-container\">\n",
              "    <button class=\"colab-df-convert\" onclick=\"convertToInteractive('df-62584f65-306e-489f-a89d-7638fa4550a5')\"\n",
              "            title=\"Convert this dataframe to an interactive table.\"\n",
              "            style=\"display:none;\">\n",
              "\n",
              "  <svg xmlns=\"http://www.w3.org/2000/svg\" height=\"24px\" viewBox=\"0 -960 960 960\">\n",
              "    <path d=\"M120-120v-720h720v720H120Zm60-500h600v-160H180v160Zm220 220h160v-160H400v160Zm0 220h160v-160H400v160ZM180-400h160v-160H180v160Zm440 0h160v-160H620v160ZM180-180h160v-160H180v160Zm440 0h160v-160H620v160Z\"/>\n",
              "  </svg>\n",
              "    </button>\n",
              "\n",
              "  <style>\n",
              "    .colab-df-container {\n",
              "      display:flex;\n",
              "      gap: 12px;\n",
              "    }\n",
              "\n",
              "    .colab-df-convert {\n",
              "      background-color: #E8F0FE;\n",
              "      border: none;\n",
              "      border-radius: 50%;\n",
              "      cursor: pointer;\n",
              "      display: none;\n",
              "      fill: #1967D2;\n",
              "      height: 32px;\n",
              "      padding: 0 0 0 0;\n",
              "      width: 32px;\n",
              "    }\n",
              "\n",
              "    .colab-df-convert:hover {\n",
              "      background-color: #E2EBFA;\n",
              "      box-shadow: 0px 1px 2px rgba(60, 64, 67, 0.3), 0px 1px 3px 1px rgba(60, 64, 67, 0.15);\n",
              "      fill: #174EA6;\n",
              "    }\n",
              "\n",
              "    .colab-df-buttons div {\n",
              "      margin-bottom: 4px;\n",
              "    }\n",
              "\n",
              "    [theme=dark] .colab-df-convert {\n",
              "      background-color: #3B4455;\n",
              "      fill: #D2E3FC;\n",
              "    }\n",
              "\n",
              "    [theme=dark] .colab-df-convert:hover {\n",
              "      background-color: #434B5C;\n",
              "      box-shadow: 0px 1px 3px 1px rgba(0, 0, 0, 0.15);\n",
              "      filter: drop-shadow(0px 1px 2px rgba(0, 0, 0, 0.3));\n",
              "      fill: #FFFFFF;\n",
              "    }\n",
              "  </style>\n",
              "\n",
              "    <script>\n",
              "      const buttonEl =\n",
              "        document.querySelector('#df-62584f65-306e-489f-a89d-7638fa4550a5 button.colab-df-convert');\n",
              "      buttonEl.style.display =\n",
              "        google.colab.kernel.accessAllowed ? 'block' : 'none';\n",
              "\n",
              "      async function convertToInteractive(key) {\n",
              "        const element = document.querySelector('#df-62584f65-306e-489f-a89d-7638fa4550a5');\n",
              "        const dataTable =\n",
              "          await google.colab.kernel.invokeFunction('convertToInteractive',\n",
              "                                                    [key], {});\n",
              "        if (!dataTable) return;\n",
              "\n",
              "        const docLinkHtml = 'Like what you see? Visit the ' +\n",
              "          '<a target=\"_blank\" href=https://colab.research.google.com/notebooks/data_table.ipynb>data table notebook</a>'\n",
              "          + ' to learn more about interactive tables.';\n",
              "        element.innerHTML = '';\n",
              "        dataTable['output_type'] = 'display_data';\n",
              "        await google.colab.output.renderOutput(dataTable, element);\n",
              "        const docLink = document.createElement('div');\n",
              "        docLink.innerHTML = docLinkHtml;\n",
              "        element.appendChild(docLink);\n",
              "      }\n",
              "    </script>\n",
              "  </div>\n",
              "\n",
              "\n",
              "<div id=\"df-15671a58-2e02-4701-81e6-6c02bc78ee09\">\n",
              "  <button class=\"colab-df-quickchart\" onclick=\"quickchart('df-15671a58-2e02-4701-81e6-6c02bc78ee09')\"\n",
              "            title=\"Suggest charts\"\n",
              "            style=\"display:none;\">\n",
              "\n",
              "<svg xmlns=\"http://www.w3.org/2000/svg\" height=\"24px\"viewBox=\"0 0 24 24\"\n",
              "     width=\"24px\">\n",
              "    <g>\n",
              "        <path d=\"M19 3H5c-1.1 0-2 .9-2 2v14c0 1.1.9 2 2 2h14c1.1 0 2-.9 2-2V5c0-1.1-.9-2-2-2zM9 17H7v-7h2v7zm4 0h-2V7h2v10zm4 0h-2v-4h2v4z\"/>\n",
              "    </g>\n",
              "</svg>\n",
              "  </button>\n",
              "\n",
              "<style>\n",
              "  .colab-df-quickchart {\n",
              "      --bg-color: #E8F0FE;\n",
              "      --fill-color: #1967D2;\n",
              "      --hover-bg-color: #E2EBFA;\n",
              "      --hover-fill-color: #174EA6;\n",
              "      --disabled-fill-color: #AAA;\n",
              "      --disabled-bg-color: #DDD;\n",
              "  }\n",
              "\n",
              "  [theme=dark] .colab-df-quickchart {\n",
              "      --bg-color: #3B4455;\n",
              "      --fill-color: #D2E3FC;\n",
              "      --hover-bg-color: #434B5C;\n",
              "      --hover-fill-color: #FFFFFF;\n",
              "      --disabled-bg-color: #3B4455;\n",
              "      --disabled-fill-color: #666;\n",
              "  }\n",
              "\n",
              "  .colab-df-quickchart {\n",
              "    background-color: var(--bg-color);\n",
              "    border: none;\n",
              "    border-radius: 50%;\n",
              "    cursor: pointer;\n",
              "    display: none;\n",
              "    fill: var(--fill-color);\n",
              "    height: 32px;\n",
              "    padding: 0;\n",
              "    width: 32px;\n",
              "  }\n",
              "\n",
              "  .colab-df-quickchart:hover {\n",
              "    background-color: var(--hover-bg-color);\n",
              "    box-shadow: 0 1px 2px rgba(60, 64, 67, 0.3), 0 1px 3px 1px rgba(60, 64, 67, 0.15);\n",
              "    fill: var(--button-hover-fill-color);\n",
              "  }\n",
              "\n",
              "  .colab-df-quickchart-complete:disabled,\n",
              "  .colab-df-quickchart-complete:disabled:hover {\n",
              "    background-color: var(--disabled-bg-color);\n",
              "    fill: var(--disabled-fill-color);\n",
              "    box-shadow: none;\n",
              "  }\n",
              "\n",
              "  .colab-df-spinner {\n",
              "    border: 2px solid var(--fill-color);\n",
              "    border-color: transparent;\n",
              "    border-bottom-color: var(--fill-color);\n",
              "    animation:\n",
              "      spin 1s steps(1) infinite;\n",
              "  }\n",
              "\n",
              "  @keyframes spin {\n",
              "    0% {\n",
              "      border-color: transparent;\n",
              "      border-bottom-color: var(--fill-color);\n",
              "      border-left-color: var(--fill-color);\n",
              "    }\n",
              "    20% {\n",
              "      border-color: transparent;\n",
              "      border-left-color: var(--fill-color);\n",
              "      border-top-color: var(--fill-color);\n",
              "    }\n",
              "    30% {\n",
              "      border-color: transparent;\n",
              "      border-left-color: var(--fill-color);\n",
              "      border-top-color: var(--fill-color);\n",
              "      border-right-color: var(--fill-color);\n",
              "    }\n",
              "    40% {\n",
              "      border-color: transparent;\n",
              "      border-right-color: var(--fill-color);\n",
              "      border-top-color: var(--fill-color);\n",
              "    }\n",
              "    60% {\n",
              "      border-color: transparent;\n",
              "      border-right-color: var(--fill-color);\n",
              "    }\n",
              "    80% {\n",
              "      border-color: transparent;\n",
              "      border-right-color: var(--fill-color);\n",
              "      border-bottom-color: var(--fill-color);\n",
              "    }\n",
              "    90% {\n",
              "      border-color: transparent;\n",
              "      border-bottom-color: var(--fill-color);\n",
              "    }\n",
              "  }\n",
              "</style>\n",
              "\n",
              "  <script>\n",
              "    async function quickchart(key) {\n",
              "      const quickchartButtonEl =\n",
              "        document.querySelector('#' + key + ' button');\n",
              "      quickchartButtonEl.disabled = true;  // To prevent multiple clicks.\n",
              "      quickchartButtonEl.classList.add('colab-df-spinner');\n",
              "      try {\n",
              "        const charts = await google.colab.kernel.invokeFunction(\n",
              "            'suggestCharts', [key], {});\n",
              "      } catch (error) {\n",
              "        console.error('Error during call to suggestCharts:', error);\n",
              "      }\n",
              "      quickchartButtonEl.classList.remove('colab-df-spinner');\n",
              "      quickchartButtonEl.classList.add('colab-df-quickchart-complete');\n",
              "    }\n",
              "    (() => {\n",
              "      let quickchartButtonEl =\n",
              "        document.querySelector('#df-15671a58-2e02-4701-81e6-6c02bc78ee09 button');\n",
              "      quickchartButtonEl.style.display =\n",
              "        google.colab.kernel.accessAllowed ? 'block' : 'none';\n",
              "    })();\n",
              "  </script>\n",
              "</div>\n",
              "\n",
              "    </div>\n",
              "  </div>\n"
            ],
            "application/vnd.google.colaboratory.intrinsic+json": {
              "type": "dataframe",
              "variable_name": "df",
              "summary": "{\n  \"name\": \"df\",\n  \"rows\": 1001,\n  \"fields\": [\n    {\n      \"column\": \"Unnamed: 0\",\n      \"properties\": {\n        \"dtype\": \"number\",\n        \"std\": 288.8194360957494,\n        \"min\": 0.0,\n        \"max\": 999.0,\n        \"num_unique_values\": 1000,\n        \"samples\": [\n          521.0,\n          737.0,\n          740.0\n        ],\n        \"semantic_type\": \"\",\n        \"description\": \"\"\n      }\n    },\n    {\n      \"column\": \"review_id\",\n      \"properties\": {\n        \"dtype\": \"string\",\n        \"num_unique_values\": 1001,\n        \"samples\": [\n          \"RP1RC91WM536B\",\n          \"R2FJH4KF9BJNUU\",\n          \"RSK7Q8VWD67T5\"\n        ],\n        \"semantic_type\": \"\",\n        \"description\": \"\"\n      }\n    },\n    {\n      \"column\": \"product_id\",\n      \"properties\": {\n        \"dtype\": \"category\",\n        \"num_unique_values\": 11,\n        \"samples\": [\n          \"B09HN594TL\",\n          \"B096SV8SJG\",\n          \"B0BYPFNW6T\"\n        ],\n        \"semantic_type\": \"\",\n        \"description\": \"\"\n      }\n    },\n    {\n      \"column\": \"title\",\n      \"properties\": {\n        \"dtype\": \"string\",\n        \"num_unique_values\": 959,\n        \"samples\": [\n          \"3.0 out of 5 stars Can't recommend them unless you're on a tight budget\",\n          \"5.0 out of 5 stars Love these little ear pods\",\n          \"5.0 out of 5 stars Great sound at the right price\"\n        ],\n        \"semantic_type\": \"\",\n        \"description\": \"\"\n      }\n    },\n    {\n      \"column\": \"author\",\n      \"properties\": {\n        \"dtype\": \"string\",\n        \"num_unique_values\": 920,\n        \"samples\": [\n          \"Darber\",\n          \"MayBae\",\n          \"Colleen\"\n        ],\n        \"semantic_type\": \"\",\n        \"description\": \"\"\n      }\n    },\n    {\n      \"column\": \"rating\",\n      \"properties\": {\n        \"dtype\": \"category\",\n        \"num_unique_values\": 6,\n        \"samples\": [\n          \"5\",\n          \"4\",\n          \"2\"\n        ],\n        \"semantic_type\": \"\",\n        \"description\": \"\"\n      }\n    },\n    {\n      \"column\": \"content\",\n      \"properties\": {\n        \"dtype\": \"string\",\n        \"num_unique_values\": 998,\n        \"samples\": [\n          \"I got these headphones during Amazon prime day. I am pleasantly surprised with how easy they are to pair with my phone, computer and on the peloton. The sound quality is great and the ear buds stay in during power walks and other cardio workouts.\",\n          \"Case won't charge headset is my only issue other then that they work great\",\n          \"I have a peculiar penchant when it comes to earbuds. I like them to be compact to fit under my helmet, have loud enough clarity that I can hear them over my bike's engine, be touch sentitive and not a button, and most importantly, be able to skip song tracks with a long button press as opposed to a double click. These fit every single box. They even make a light to let you know when you've changed tracks. This is important to me so I can tell when I successfully did skip to the next song and not accidentally pause my music instead. They were so close to perfection. Except for one major problem that ruins it for me. Any small drop, matter how light, will break it. I once dropped a bud while sitting down onto thick carpet and the sound went out in it. All other functions worked except it made no noise. I figured I got a defective product and Amazon was happy to replace it. I loved my second one until I dropped it on my bed and the earbud died again. If the maker made them any more durable, I would happily buy a third pair. They have good sound quality, are compact, great battery life, and have all the functions I want. However, any drop over 15 inches, no matter the surface will break their sound. Every other function in that dropped earbud will work but it will be completely muted. I truly wish I could give this product the 5 stars it deserves but after going through two of the same earbuds with the same issue, I simply can't do so. I gave it 2 stars instead of 1 solely because of the audio and ticking off all my boxes. Unfortunately, because of it's fragility, I can't give it any better. I wish I could but a 15.3 inch fall into my mattress should not be enough to kill it.\"\n        ],\n        \"semantic_type\": \"\",\n        \"description\": \"\"\n      }\n    },\n    {\n      \"column\": \"timestamp\",\n      \"properties\": {\n        \"dtype\": \"category\",\n        \"num_unique_values\": 455,\n        \"samples\": [\n          \"Reviewed in the United States January 22, 2024\",\n          \"Reviewed in the United States July 19, 2024\",\n          \"Reviewed in the United States May 26, 2024\"\n        ],\n        \"semantic_type\": \"\",\n        \"description\": \"\"\n      }\n    },\n    {\n      \"column\": \"profile_id\",\n      \"properties\": {\n        \"dtype\": \"string\",\n        \"num_unique_values\": 1001,\n        \"samples\": [\n          \"AHSMCI5GVEWMNGSLNZY2YFF7HOMQ\",\n          \"AFUKD2VT265Q2AIDLZZDA6JBUVMQ\",\n          \"AGXO6L6R4MBKTHVEAUJUI7C5O3SQ\"\n        ],\n        \"semantic_type\": \"\",\n        \"description\": \"\"\n      }\n    },\n    {\n      \"column\": \"is_verified\",\n      \"properties\": {\n        \"dtype\": \"category\",\n        \"num_unique_values\": 3,\n        \"samples\": [\n          \"1\",\n          \"is_verified\",\n          \"0\"\n        ],\n        \"semantic_type\": \"\",\n        \"description\": \"\"\n      }\n    },\n    {\n      \"column\": \"helpful_count\",\n      \"properties\": {\n        \"dtype\": \"category\",\n        \"num_unique_values\": 50,\n        \"samples\": [\n          \"6\",\n          \"44\",\n          \"26\"\n        ],\n        \"semantic_type\": \"\",\n        \"description\": \"\"\n      }\n    },\n    {\n      \"column\": \"product_attributes\",\n      \"properties\": {\n        \"dtype\": \"category\",\n        \"num_unique_values\": 36,\n        \"samples\": [\n          \"Color: Oat White\",\n          \"Color: BlackStyle: Pop\",\n          \"Color: NavyStyle: Pop\"\n        ],\n        \"semantic_type\": \"\",\n        \"description\": \"\"\n      }\n    }\n  ]\n}"
            }
          },
          "metadata": {},
          "execution_count": 53
        }
      ]
    },
    {
      "cell_type": "code",
      "source": [
        "import nltk\n",
        "from nltk.sentiment import SentimentIntensityAnalyzer\n",
        "nltk.download('vader_lexicon')\n",
        "sia = SentimentIntensityAnalyzer()\n",
        "text = df['content'][0]\n",
        "Sentiment = sia.polarity_scores(text)\n",
        "print(Sentiment)\n"
      ],
      "metadata": {
        "colab": {
          "base_uri": "https://localhost:8080/"
        },
        "id": "-HiILvbPKIFb",
        "outputId": "b75e5177-0ecd-4dbc-da45-50cddefa1595"
      },
      "execution_count": null,
      "outputs": [
        {
          "output_type": "stream",
          "name": "stdout",
          "text": [
            "{'neg': 0.077, 'neu': 0.74, 'pos': 0.184, 'compound': 0.9985}\n"
          ]
        },
        {
          "output_type": "stream",
          "name": "stderr",
          "text": [
            "[nltk_data] Downloading package vader_lexicon to /root/nltk_data...\n",
            "[nltk_data]   Package vader_lexicon is already up-to-date!\n"
          ]
        }
      ]
    },
    {
      "cell_type": "code",
      "source": [
        "from textblob import TextBlob\n",
        "blob = TextBlob(text)\n",
        "sentiment = blob.sentiment\n",
        "print(sentiment)"
      ],
      "metadata": {
        "colab": {
          "base_uri": "https://localhost:8080/"
        },
        "id": "Zj6ur2A1pcLV",
        "outputId": "32d61222-2e0f-4ef9-9d0b-e8f09aa90ed5"
      },
      "execution_count": null,
      "outputs": [
        {
          "output_type": "stream",
          "name": "stdout",
          "text": [
            "Sentiment(polarity=0.16530880230880232, subjectivity=0.5307694003527337)\n"
          ]
        }
      ]
    },
    {
      "cell_type": "code",
      "source": [],
      "metadata": {
        "id": "WaO_aBjit5Qn"
      },
      "execution_count": null,
      "outputs": []
    },
    {
      "cell_type": "markdown",
      "source": [
        "# **Conclusion **\n",
        "\n",
        "In terms of the EDA analysis, there were quite a few outliers. People either really loved the earbuds, or were generally not a fan. The mean of all earbuds was 4.15 which meant that customers loved the earbud selections.\n",
        "The histogram focuses on the frequency or number of people that gave each rating. It sheds light into understanding what the highest rating was and how the data was spread out between 1-5 stars. The box plot focuses on the ratings based on each product. This helps each company understand how they are doing compared to others while also seeing the few outliers. The bar chart focuses on how helpful each review rating was. This means around 500 people found the 2 star review to be extremly helpful for example. The heatmap compares the rating and the helpful count. I was having an issue working witht the datasheet itself and viewing the sentiment analyzer, instead I chose to extract random comments under the content section to review. This allowed me to get a good understanding of the sentinment values of customers that purchased the various earbuds. The score told me that overall 7.7% of the comments had negative words or attributes, 74% had neutral sentiments, and 18.4 had postive words. For Beats by Dre, people have a strong liking towards the products they are using, however, some improvements or new feautures are necessary to score higher than neutral and wow customers. Earphones compared were HTC, 1More Comfo Buds, JBL Tune 230NC, JLAB Go Air pop, Beats Studio Buds, Jabra Elite 4, Sennheiser consumer, Skullcandy smokin' buds, Soundcore by Anker, and much more! The polarity score was 0.165 which means overall the comments were more postive and the subjectivity score of 0.53 means the majority of these comments were based on opinions.\n",
        "\n"
      ],
      "metadata": {
        "id": "3syjiiCpKnZ8"
      }
    },
    {
      "cell_type": "code",
      "source": [
        "\n",
        "df1 = pd.read_csv('Beats.csv')\n",
        "df1.head()\n",
        "\n",
        "import nltk\n",
        "from nltk.sentiment import SentimentIntensityAnalyzer\n",
        "nltk.download('vader_lexicon')\n",
        "sia = SentimentIntensityAnalyzer()\n",
        "text = df1['content'][0]\n",
        "Sentiment = sia.polarity_scores(text)\n",
        "print(Sentiment)\n",
        "\n",
        "from textblob import TextBlob\n",
        "blob = TextBlob(text)\n",
        "sentiment2 = blob.sentiment\n",
        "print(sentiment2)"
      ],
      "metadata": {
        "colab": {
          "base_uri": "https://localhost:8080/"
        },
        "id": "-6iXn6dz-niQ",
        "outputId": "6accf671-b362-4b40-92de-65dc15bc5cf0"
      },
      "execution_count": null,
      "outputs": [
        {
          "output_type": "stream",
          "name": "stdout",
          "text": [
            "{'neg': 0.077, 'neu': 0.74, 'pos': 0.184, 'compound': 0.9985}\n",
            "Sentiment(polarity=0.16530880230880232, subjectivity=0.5307694003527337)\n"
          ]
        },
        {
          "output_type": "stream",
          "name": "stderr",
          "text": [
            "[nltk_data] Downloading package vader_lexicon to /root/nltk_data...\n"
          ]
        }
      ]
    },
    {
      "cell_type": "code",
      "source": [
        "#Beats Dataset\n",
        "df2 = pd.read_csv('Beats.csv')\n",
        "missing = df2.dropna(inplace = True)\n",
        "Duplicates = df2.drop_duplicates()\n",
        "df2['rating'] = df2['rating'].astype(float)"
      ],
      "metadata": {
        "id": "1IHqsByFX8W0"
      },
      "execution_count": null,
      "outputs": []
    }
  ]
}
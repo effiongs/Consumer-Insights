{
  "nbformat": 4,
  "nbformat_minor": 0,
  "metadata": {
    "colab": {
      "provenance": []
    },
    "kernelspec": {
      "name": "python3",
      "display_name": "Python 3"
    },
    "language_info": {
      "name": "python"
    }
  },
  "cells": [
    {
      "cell_type": "markdown",
      "source": [
        "# Capstone Project: Consumer Insights Data Analytics Externship of Beats by Dre"
      ],
      "metadata": {
        "id": "IydAmVbUe5No"
      }
    },
    {
      "cell_type": "markdown",
      "source": [
        "## 1. Title Page\n",
        "**Project Title:** Consumer Insights Data Analytics Externship of Beats by Dre  \n",
        "**Student Name:** Sharon Effiong  \n",
        "**Date:** 08.15.2024"
      ],
      "metadata": {
        "id": "9NNnXrCxfZm5"
      }
    },
    {
      "cell_type": "markdown",
      "source": [
        "## 2. Table of Contents\n",
        "1. Introduction\n",
        "2. Data Description\n",
        "3. Exploratory Data Analysis (EDA)\n",
        "4. Sentiment Analysis\n",
        "5. AI-Generated Insights\n",
        "6. Comparative Analysis\n",
        "7. Strategic Recommendations\n",
        "8. Conclusion\n",
        "9. References"
      ],
      "metadata": {
        "id": "EcaUG1uyfeiS"
      }
    },
    {
      "cell_type": "markdown",
      "source": [
        "## 3. Introduction\n",
        "\n",
        "### 3.1 Project Overview\n"
      ],
      "metadata": {
        "id": "jbYdV2Rbf0AD"
      }
    },
    {
      "cell_type": "markdown",
      "source": [
        "\n",
        "The purpose of this project was to gather data to gain insight on a specific product Beats produces and compare the brand to its competitors. In order to compare them, thorough analysis and visualizations were required to percieve the similarites and differences. It also gave Beats insight to understand areas they are dominating and areas they are lacking in order to excel. Every company has the goal to be the top producing brand in its industry and this analysis sheds lgiht for Beats to understand exactly how to do that.\n",
        "\n",
        "We:\n",
        "1. Ensure we understood the foundations of python in order to complete the coding required for the project.\n",
        "2. Broke down the data set into a format that could be used to code. From this we could gather more insight and further perform analysis.\n",
        "3. We cleaned up the data to ensure that there were no issues such as duplicated data, missing data, etc. In that way, we knew that there was nothing that could alter us from getting the most accurate information for our analysis.\n",
        "4. We created visualizatons to understand the information we had in front of us. This was an opportunity to visually compare information which could further assist us with our  analysis. On top of that, we performed a sentiment analysis to look at all the comments and understand how people truly felt about each product. It also allowed us to understand if their responses were opinionated or factual.\n",
        "5. We created our own AI chat box using API Keys. This was beneficial as we could then have gemini extract information for us based on our dataset and answer questions that we might have trouble coding.\n"
      ],
      "metadata": {
        "id": "IqlU8HCQckvg"
      }
    },
    {
      "cell_type": "markdown",
      "source": [
        "### 3.2 Background\n"
      ],
      "metadata": {
        "id": "gsPiaY4Zf6bZ"
      }
    },
    {
      "cell_type": "markdown",
      "source": [
        "Beats is an audio brand that specializes is the creation of headphones, speakers, and earphones. Consumer's interest in Beats products plays a large role in the company's success. Thus making it imperative to understand the desires of both consumers and stakeholders. With the analysis of consumer sentiment, Beats is given the opportunity to dominate in the tech industry for producing audio equipment that cater to both the needs and interests of its consumers."
      ],
      "metadata": {
        "id": "rVMbpHmdcyBy"
      }
    },
    {
      "cell_type": "markdown",
      "source": [
        "## 4. Data Description\n",
        "\n",
        "### 4.1 Data Sources\n"
      ],
      "metadata": {
        "id": "oL_6d6NngA_2"
      }
    },
    {
      "cell_type": "markdown",
      "source": [
        "For the project that consisted of extracting reviews from Amazon, I orignally started with looking at speakers from JBL, Marshalls, Sonos, Beats, and Sony. However, there were some issues along the way – trouble with oxylabs and my free trial expired – and I was unable to use the reviews found to extract data. I ended up working with the data set that was provided. Going through the dataset, I was able to discover that a few of the many earbuds used were: HTC Wireless Buds, 1More Comfo Buds, JBL Tune 230NC, JLAB Go Air pop, Beats Studio Buds, Jabra Elite 4, Soundcore by Anker, Sony WF-C700N, Sennheiser Consumer Audio CX, and Skullcandy Smokin earbuds."
      ],
      "metadata": {
        "id": "siugYmBpeH42"
      }
    },
    {
      "cell_type": "markdown",
      "source": [
        "### 4.2 Data Collection\n"
      ],
      "metadata": {
        "id": "8KD8d0nXgCAy"
      }
    },
    {
      "cell_type": "markdown",
      "source": [
        "As mentioned in the previous section, I started with my own data collection by attempting to obtain json files through Oxylabs that were derived from the reviews section obtained through Amazon. However, I had some issues with my collection process and proceeded to use Chaitanya's data set. It is understood that he extracted the information using Oxylabs and downloaded the content as JSON files. From there he went to colabs, imported all the informaton, obtain a csv version through coding, and then merged all the data files as one to easily formulate analysis based on the data set."
      ],
      "metadata": {
        "id": "EJOaFmcpfJyS"
      }
    },
    {
      "cell_type": "markdown",
      "source": [
        "### 4.3 Data Cleaning\n"
      ],
      "metadata": {
        "id": "dnCMjSjegE55"
      }
    },
    {
      "cell_type": "markdown",
      "source": [
        "It was important to clean up the data so that we were working with the best version of information. For that to be possible, I first merged all the datasets as one by using merged_df = pd.concat([df,df2,df3,df4,df5]). This allowed all 5 data sheets to be one. This alleiviated the need to run the same code for all 5 sets of data by simplifying the process. Next, I looked for missing values. This could be people that chose to comment about the product but decided not to leave a review. Although useful information, it wasn't useful in regard to my focus which was ratings/reviews. I removed all missing values by running this code: df_dropped1 = merged_df.dropna(inplace = True). I checked to see if the values were dropped using merged_df.isnull().sum() and they were. Everything column came out as zero. I checked for outliers. To do that, I was required to install and import numpy. I had to do a bit of research to find the most useful way to find outliers and I was able to formulate this function: outliers = find_outliers_IQR(merged_df['Stars']). I had to so some previous coding work to ensure this function would work. This gave me the exact number of outliers I had in my dataset. I didn't remove the outliers because I believe it gave me some insight. Looking at the number of outliers I believed that it was important to include reviews from those that may have been extremely dissapointed in the product they purchased and why.  "
      ],
      "metadata": {
        "id": "jyph3hLkgJY6"
      }
    },
    {
      "cell_type": "code",
      "source": [
        "## In this case the data is already merged, so I will skip that portion.\n",
        "import requests\n",
        "import pandas as pd\n",
        "from bs4 import BeautifulSoup\n",
        "from datetime import datetime\n",
        "df = pd.read_csv('AllEars.csv')\n",
        "\n",
        "df.head(3)\n"
      ],
      "metadata": {
        "id": "bgAD9_XRgGru",
        "colab": {
          "base_uri": "https://localhost:8080/",
          "height": 459
        },
        "outputId": "ee1d12fc-942f-402a-de8f-b9f93ebb081e"
      },
      "execution_count": null,
      "outputs": [
        {
          "output_type": "execute_result",
          "data": {
            "text/plain": [
              "   Unnamed: 0       review_id  product_id  \\\n",
              "0       400.0   RUUJJA0TERA67  B096SV8SJG   \n",
              "1       401.0  R3EO2GBST2UICI  B096SV8SJG   \n",
              "2       402.0  R2D114QWXW4IOU  B096SV8SJG   \n",
              "\n",
              "                                               title        author rating  \\\n",
              "0  5.0 out of 5 stars Compared to 4 other Earbuds...        Connor      5   \n",
              "1  5.0 out of 5 stars Initial review and comparis...  philip seitz      5   \n",
              "2           5.0 out of 5 stars I think they’re great         Maizy      5   \n",
              "\n",
              "                                             content  \\\n",
              "0  I bought these earbuds along with 4 other pair...   \n",
              "1  I love these earbuds. They feel definitely wor...   \n",
              "2  I like the sound a lot. I read a previous revi...   \n",
              "\n",
              "                                          timestamp  \\\n",
              "0     Reviewed in the United States August 11, 2022   \n",
              "1  Reviewed in the United States September 28, 2023   \n",
              "2       Reviewed in the United States July 27, 2024   \n",
              "\n",
              "                     profile_id is_verified helpful_count  \\\n",
              "0  AFEITP6Y25NKH3KB2LXWQCC7STIA           1          2277   \n",
              "1  AFMDCDCHBIWSEI6RDYBCY4MXXVZQ           1           562   \n",
              "2  AFRVRGYJJSBAELQK6XVCXXBCJXLA           1             3   \n",
              "\n",
              "                                  product_attributes  \n",
              "0  Color: BlackStyle: Studio BudsSet: Without App...  \n",
              "1  Color: BlackStyle: Studio BudsSet: Without App...  \n",
              "2  Color: BlackStyle: Studio BudsSet: Without App...  "
            ],
            "text/html": [
              "\n",
              "  <div id=\"df-ad5e4a59-b030-4b4e-85b1-ac9f6e748875\" class=\"colab-df-container\">\n",
              "    <div>\n",
              "<style scoped>\n",
              "    .dataframe tbody tr th:only-of-type {\n",
              "        vertical-align: middle;\n",
              "    }\n",
              "\n",
              "    .dataframe tbody tr th {\n",
              "        vertical-align: top;\n",
              "    }\n",
              "\n",
              "    .dataframe thead th {\n",
              "        text-align: right;\n",
              "    }\n",
              "</style>\n",
              "<table border=\"1\" class=\"dataframe\">\n",
              "  <thead>\n",
              "    <tr style=\"text-align: right;\">\n",
              "      <th></th>\n",
              "      <th>Unnamed: 0</th>\n",
              "      <th>review_id</th>\n",
              "      <th>product_id</th>\n",
              "      <th>title</th>\n",
              "      <th>author</th>\n",
              "      <th>rating</th>\n",
              "      <th>content</th>\n",
              "      <th>timestamp</th>\n",
              "      <th>profile_id</th>\n",
              "      <th>is_verified</th>\n",
              "      <th>helpful_count</th>\n",
              "      <th>product_attributes</th>\n",
              "    </tr>\n",
              "  </thead>\n",
              "  <tbody>\n",
              "    <tr>\n",
              "      <th>0</th>\n",
              "      <td>400.0</td>\n",
              "      <td>RUUJJA0TERA67</td>\n",
              "      <td>B096SV8SJG</td>\n",
              "      <td>5.0 out of 5 stars Compared to 4 other Earbuds...</td>\n",
              "      <td>Connor</td>\n",
              "      <td>5</td>\n",
              "      <td>I bought these earbuds along with 4 other pair...</td>\n",
              "      <td>Reviewed in the United States August 11, 2022</td>\n",
              "      <td>AFEITP6Y25NKH3KB2LXWQCC7STIA</td>\n",
              "      <td>1</td>\n",
              "      <td>2277</td>\n",
              "      <td>Color: BlackStyle: Studio BudsSet: Without App...</td>\n",
              "    </tr>\n",
              "    <tr>\n",
              "      <th>1</th>\n",
              "      <td>401.0</td>\n",
              "      <td>R3EO2GBST2UICI</td>\n",
              "      <td>B096SV8SJG</td>\n",
              "      <td>5.0 out of 5 stars Initial review and comparis...</td>\n",
              "      <td>philip seitz</td>\n",
              "      <td>5</td>\n",
              "      <td>I love these earbuds. They feel definitely wor...</td>\n",
              "      <td>Reviewed in the United States September 28, 2023</td>\n",
              "      <td>AFMDCDCHBIWSEI6RDYBCY4MXXVZQ</td>\n",
              "      <td>1</td>\n",
              "      <td>562</td>\n",
              "      <td>Color: BlackStyle: Studio BudsSet: Without App...</td>\n",
              "    </tr>\n",
              "    <tr>\n",
              "      <th>2</th>\n",
              "      <td>402.0</td>\n",
              "      <td>R2D114QWXW4IOU</td>\n",
              "      <td>B096SV8SJG</td>\n",
              "      <td>5.0 out of 5 stars I think they’re great</td>\n",
              "      <td>Maizy</td>\n",
              "      <td>5</td>\n",
              "      <td>I like the sound a lot. I read a previous revi...</td>\n",
              "      <td>Reviewed in the United States July 27, 2024</td>\n",
              "      <td>AFRVRGYJJSBAELQK6XVCXXBCJXLA</td>\n",
              "      <td>1</td>\n",
              "      <td>3</td>\n",
              "      <td>Color: BlackStyle: Studio BudsSet: Without App...</td>\n",
              "    </tr>\n",
              "  </tbody>\n",
              "</table>\n",
              "</div>\n",
              "    <div class=\"colab-df-buttons\">\n",
              "\n",
              "  <div class=\"colab-df-container\">\n",
              "    <button class=\"colab-df-convert\" onclick=\"convertToInteractive('df-ad5e4a59-b030-4b4e-85b1-ac9f6e748875')\"\n",
              "            title=\"Convert this dataframe to an interactive table.\"\n",
              "            style=\"display:none;\">\n",
              "\n",
              "  <svg xmlns=\"http://www.w3.org/2000/svg\" height=\"24px\" viewBox=\"0 -960 960 960\">\n",
              "    <path d=\"M120-120v-720h720v720H120Zm60-500h600v-160H180v160Zm220 220h160v-160H400v160Zm0 220h160v-160H400v160ZM180-400h160v-160H180v160Zm440 0h160v-160H620v160ZM180-180h160v-160H180v160Zm440 0h160v-160H620v160Z\"/>\n",
              "  </svg>\n",
              "    </button>\n",
              "\n",
              "  <style>\n",
              "    .colab-df-container {\n",
              "      display:flex;\n",
              "      gap: 12px;\n",
              "    }\n",
              "\n",
              "    .colab-df-convert {\n",
              "      background-color: #E8F0FE;\n",
              "      border: none;\n",
              "      border-radius: 50%;\n",
              "      cursor: pointer;\n",
              "      display: none;\n",
              "      fill: #1967D2;\n",
              "      height: 32px;\n",
              "      padding: 0 0 0 0;\n",
              "      width: 32px;\n",
              "    }\n",
              "\n",
              "    .colab-df-convert:hover {\n",
              "      background-color: #E2EBFA;\n",
              "      box-shadow: 0px 1px 2px rgba(60, 64, 67, 0.3), 0px 1px 3px 1px rgba(60, 64, 67, 0.15);\n",
              "      fill: #174EA6;\n",
              "    }\n",
              "\n",
              "    .colab-df-buttons div {\n",
              "      margin-bottom: 4px;\n",
              "    }\n",
              "\n",
              "    [theme=dark] .colab-df-convert {\n",
              "      background-color: #3B4455;\n",
              "      fill: #D2E3FC;\n",
              "    }\n",
              "\n",
              "    [theme=dark] .colab-df-convert:hover {\n",
              "      background-color: #434B5C;\n",
              "      box-shadow: 0px 1px 3px 1px rgba(0, 0, 0, 0.15);\n",
              "      filter: drop-shadow(0px 1px 2px rgba(0, 0, 0, 0.3));\n",
              "      fill: #FFFFFF;\n",
              "    }\n",
              "  </style>\n",
              "\n",
              "    <script>\n",
              "      const buttonEl =\n",
              "        document.querySelector('#df-ad5e4a59-b030-4b4e-85b1-ac9f6e748875 button.colab-df-convert');\n",
              "      buttonEl.style.display =\n",
              "        google.colab.kernel.accessAllowed ? 'block' : 'none';\n",
              "\n",
              "      async function convertToInteractive(key) {\n",
              "        const element = document.querySelector('#df-ad5e4a59-b030-4b4e-85b1-ac9f6e748875');\n",
              "        const dataTable =\n",
              "          await google.colab.kernel.invokeFunction('convertToInteractive',\n",
              "                                                    [key], {});\n",
              "        if (!dataTable) return;\n",
              "\n",
              "        const docLinkHtml = 'Like what you see? Visit the ' +\n",
              "          '<a target=\"_blank\" href=https://colab.research.google.com/notebooks/data_table.ipynb>data table notebook</a>'\n",
              "          + ' to learn more about interactive tables.';\n",
              "        element.innerHTML = '';\n",
              "        dataTable['output_type'] = 'display_data';\n",
              "        await google.colab.output.renderOutput(dataTable, element);\n",
              "        const docLink = document.createElement('div');\n",
              "        docLink.innerHTML = docLinkHtml;\n",
              "        element.appendChild(docLink);\n",
              "      }\n",
              "    </script>\n",
              "  </div>\n",
              "\n",
              "\n",
              "<div id=\"df-dea54b62-82e3-40aa-931e-c2471de5c944\">\n",
              "  <button class=\"colab-df-quickchart\" onclick=\"quickchart('df-dea54b62-82e3-40aa-931e-c2471de5c944')\"\n",
              "            title=\"Suggest charts\"\n",
              "            style=\"display:none;\">\n",
              "\n",
              "<svg xmlns=\"http://www.w3.org/2000/svg\" height=\"24px\"viewBox=\"0 0 24 24\"\n",
              "     width=\"24px\">\n",
              "    <g>\n",
              "        <path d=\"M19 3H5c-1.1 0-2 .9-2 2v14c0 1.1.9 2 2 2h14c1.1 0 2-.9 2-2V5c0-1.1-.9-2-2-2zM9 17H7v-7h2v7zm4 0h-2V7h2v10zm4 0h-2v-4h2v4z\"/>\n",
              "    </g>\n",
              "</svg>\n",
              "  </button>\n",
              "\n",
              "<style>\n",
              "  .colab-df-quickchart {\n",
              "      --bg-color: #E8F0FE;\n",
              "      --fill-color: #1967D2;\n",
              "      --hover-bg-color: #E2EBFA;\n",
              "      --hover-fill-color: #174EA6;\n",
              "      --disabled-fill-color: #AAA;\n",
              "      --disabled-bg-color: #DDD;\n",
              "  }\n",
              "\n",
              "  [theme=dark] .colab-df-quickchart {\n",
              "      --bg-color: #3B4455;\n",
              "      --fill-color: #D2E3FC;\n",
              "      --hover-bg-color: #434B5C;\n",
              "      --hover-fill-color: #FFFFFF;\n",
              "      --disabled-bg-color: #3B4455;\n",
              "      --disabled-fill-color: #666;\n",
              "  }\n",
              "\n",
              "  .colab-df-quickchart {\n",
              "    background-color: var(--bg-color);\n",
              "    border: none;\n",
              "    border-radius: 50%;\n",
              "    cursor: pointer;\n",
              "    display: none;\n",
              "    fill: var(--fill-color);\n",
              "    height: 32px;\n",
              "    padding: 0;\n",
              "    width: 32px;\n",
              "  }\n",
              "\n",
              "  .colab-df-quickchart:hover {\n",
              "    background-color: var(--hover-bg-color);\n",
              "    box-shadow: 0 1px 2px rgba(60, 64, 67, 0.3), 0 1px 3px 1px rgba(60, 64, 67, 0.15);\n",
              "    fill: var(--button-hover-fill-color);\n",
              "  }\n",
              "\n",
              "  .colab-df-quickchart-complete:disabled,\n",
              "  .colab-df-quickchart-complete:disabled:hover {\n",
              "    background-color: var(--disabled-bg-color);\n",
              "    fill: var(--disabled-fill-color);\n",
              "    box-shadow: none;\n",
              "  }\n",
              "\n",
              "  .colab-df-spinner {\n",
              "    border: 2px solid var(--fill-color);\n",
              "    border-color: transparent;\n",
              "    border-bottom-color: var(--fill-color);\n",
              "    animation:\n",
              "      spin 1s steps(1) infinite;\n",
              "  }\n",
              "\n",
              "  @keyframes spin {\n",
              "    0% {\n",
              "      border-color: transparent;\n",
              "      border-bottom-color: var(--fill-color);\n",
              "      border-left-color: var(--fill-color);\n",
              "    }\n",
              "    20% {\n",
              "      border-color: transparent;\n",
              "      border-left-color: var(--fill-color);\n",
              "      border-top-color: var(--fill-color);\n",
              "    }\n",
              "    30% {\n",
              "      border-color: transparent;\n",
              "      border-left-color: var(--fill-color);\n",
              "      border-top-color: var(--fill-color);\n",
              "      border-right-color: var(--fill-color);\n",
              "    }\n",
              "    40% {\n",
              "      border-color: transparent;\n",
              "      border-right-color: var(--fill-color);\n",
              "      border-top-color: var(--fill-color);\n",
              "    }\n",
              "    60% {\n",
              "      border-color: transparent;\n",
              "      border-right-color: var(--fill-color);\n",
              "    }\n",
              "    80% {\n",
              "      border-color: transparent;\n",
              "      border-right-color: var(--fill-color);\n",
              "      border-bottom-color: var(--fill-color);\n",
              "    }\n",
              "    90% {\n",
              "      border-color: transparent;\n",
              "      border-bottom-color: var(--fill-color);\n",
              "    }\n",
              "  }\n",
              "</style>\n",
              "\n",
              "  <script>\n",
              "    async function quickchart(key) {\n",
              "      const quickchartButtonEl =\n",
              "        document.querySelector('#' + key + ' button');\n",
              "      quickchartButtonEl.disabled = true;  // To prevent multiple clicks.\n",
              "      quickchartButtonEl.classList.add('colab-df-spinner');\n",
              "      try {\n",
              "        const charts = await google.colab.kernel.invokeFunction(\n",
              "            'suggestCharts', [key], {});\n",
              "      } catch (error) {\n",
              "        console.error('Error during call to suggestCharts:', error);\n",
              "      }\n",
              "      quickchartButtonEl.classList.remove('colab-df-spinner');\n",
              "      quickchartButtonEl.classList.add('colab-df-quickchart-complete');\n",
              "    }\n",
              "    (() => {\n",
              "      let quickchartButtonEl =\n",
              "        document.querySelector('#df-dea54b62-82e3-40aa-931e-c2471de5c944 button');\n",
              "      quickchartButtonEl.style.display =\n",
              "        google.colab.kernel.accessAllowed ? 'block' : 'none';\n",
              "    })();\n",
              "  </script>\n",
              "</div>\n",
              "\n",
              "    </div>\n",
              "  </div>\n"
            ],
            "application/vnd.google.colaboratory.intrinsic+json": {
              "type": "dataframe",
              "variable_name": "df",
              "summary": "{\n  \"name\": \"df\",\n  \"rows\": 1001,\n  \"fields\": [\n    {\n      \"column\": \"Unnamed: 0\",\n      \"properties\": {\n        \"dtype\": \"number\",\n        \"std\": 288.8194360957494,\n        \"min\": 0.0,\n        \"max\": 999.0,\n        \"num_unique_values\": 1000,\n        \"samples\": [\n          521.0,\n          737.0,\n          740.0\n        ],\n        \"semantic_type\": \"\",\n        \"description\": \"\"\n      }\n    },\n    {\n      \"column\": \"review_id\",\n      \"properties\": {\n        \"dtype\": \"string\",\n        \"num_unique_values\": 1001,\n        \"samples\": [\n          \"RP1RC91WM536B\",\n          \"R2FJH4KF9BJNUU\",\n          \"RSK7Q8VWD67T5\"\n        ],\n        \"semantic_type\": \"\",\n        \"description\": \"\"\n      }\n    },\n    {\n      \"column\": \"product_id\",\n      \"properties\": {\n        \"dtype\": \"category\",\n        \"num_unique_values\": 11,\n        \"samples\": [\n          \"B09HN594TL\",\n          \"B096SV8SJG\",\n          \"B0BYPFNW6T\"\n        ],\n        \"semantic_type\": \"\",\n        \"description\": \"\"\n      }\n    },\n    {\n      \"column\": \"title\",\n      \"properties\": {\n        \"dtype\": \"string\",\n        \"num_unique_values\": 959,\n        \"samples\": [\n          \"3.0 out of 5 stars Can't recommend them unless you're on a tight budget\",\n          \"5.0 out of 5 stars Love these little ear pods\",\n          \"5.0 out of 5 stars Great sound at the right price\"\n        ],\n        \"semantic_type\": \"\",\n        \"description\": \"\"\n      }\n    },\n    {\n      \"column\": \"author\",\n      \"properties\": {\n        \"dtype\": \"string\",\n        \"num_unique_values\": 920,\n        \"samples\": [\n          \"Darber\",\n          \"MayBae\",\n          \"Colleen\"\n        ],\n        \"semantic_type\": \"\",\n        \"description\": \"\"\n      }\n    },\n    {\n      \"column\": \"rating\",\n      \"properties\": {\n        \"dtype\": \"category\",\n        \"num_unique_values\": 6,\n        \"samples\": [\n          \"5\",\n          \"4\",\n          \"2\"\n        ],\n        \"semantic_type\": \"\",\n        \"description\": \"\"\n      }\n    },\n    {\n      \"column\": \"content\",\n      \"properties\": {\n        \"dtype\": \"string\",\n        \"num_unique_values\": 998,\n        \"samples\": [\n          \"I got these headphones during Amazon prime day. I am pleasantly surprised with how easy they are to pair with my phone, computer and on the peloton. The sound quality is great and the ear buds stay in during power walks and other cardio workouts.\",\n          \"Case won't charge headset is my only issue other then that they work great\",\n          \"I have a peculiar penchant when it comes to earbuds. I like them to be compact to fit under my helmet, have loud enough clarity that I can hear them over my bike's engine, be touch sentitive and not a button, and most importantly, be able to skip song tracks with a long button press as opposed to a double click. These fit every single box. They even make a light to let you know when you've changed tracks. This is important to me so I can tell when I successfully did skip to the next song and not accidentally pause my music instead. They were so close to perfection. Except for one major problem that ruins it for me. Any small drop, matter how light, will break it. I once dropped a bud while sitting down onto thick carpet and the sound went out in it. All other functions worked except it made no noise. I figured I got a defective product and Amazon was happy to replace it. I loved my second one until I dropped it on my bed and the earbud died again. If the maker made them any more durable, I would happily buy a third pair. They have good sound quality, are compact, great battery life, and have all the functions I want. However, any drop over 15 inches, no matter the surface will break their sound. Every other function in that dropped earbud will work but it will be completely muted. I truly wish I could give this product the 5 stars it deserves but after going through two of the same earbuds with the same issue, I simply can't do so. I gave it 2 stars instead of 1 solely because of the audio and ticking off all my boxes. Unfortunately, because of it's fragility, I can't give it any better. I wish I could but a 15.3 inch fall into my mattress should not be enough to kill it.\"\n        ],\n        \"semantic_type\": \"\",\n        \"description\": \"\"\n      }\n    },\n    {\n      \"column\": \"timestamp\",\n      \"properties\": {\n        \"dtype\": \"category\",\n        \"num_unique_values\": 455,\n        \"samples\": [\n          \"Reviewed in the United States January 22, 2024\",\n          \"Reviewed in the United States July 19, 2024\",\n          \"Reviewed in the United States May 26, 2024\"\n        ],\n        \"semantic_type\": \"\",\n        \"description\": \"\"\n      }\n    },\n    {\n      \"column\": \"profile_id\",\n      \"properties\": {\n        \"dtype\": \"string\",\n        \"num_unique_values\": 1001,\n        \"samples\": [\n          \"AHSMCI5GVEWMNGSLNZY2YFF7HOMQ\",\n          \"AFUKD2VT265Q2AIDLZZDA6JBUVMQ\",\n          \"AGXO6L6R4MBKTHVEAUJUI7C5O3SQ\"\n        ],\n        \"semantic_type\": \"\",\n        \"description\": \"\"\n      }\n    },\n    {\n      \"column\": \"is_verified\",\n      \"properties\": {\n        \"dtype\": \"category\",\n        \"num_unique_values\": 3,\n        \"samples\": [\n          \"1\",\n          \"is_verified\",\n          \"0\"\n        ],\n        \"semantic_type\": \"\",\n        \"description\": \"\"\n      }\n    },\n    {\n      \"column\": \"helpful_count\",\n      \"properties\": {\n        \"dtype\": \"category\",\n        \"num_unique_values\": 50,\n        \"samples\": [\n          \"6\",\n          \"44\",\n          \"26\"\n        ],\n        \"semantic_type\": \"\",\n        \"description\": \"\"\n      }\n    },\n    {\n      \"column\": \"product_attributes\",\n      \"properties\": {\n        \"dtype\": \"category\",\n        \"num_unique_values\": 36,\n        \"samples\": [\n          \"Color: Oat White\",\n          \"Color: BlackStyle: Pop\",\n          \"Color: NavyStyle: Pop\"\n        ],\n        \"semantic_type\": \"\",\n        \"description\": \"\"\n      }\n    }\n  ]\n}"
            }
          },
          "metadata": {},
          "execution_count": 11
        }
      ]
    },
    {
      "cell_type": "code",
      "source": [
        "# Looking for missing values #\n",
        "df.isnull().sum()\n",
        "# Removing them #\n",
        "df_dropped1 = df.dropna(inplace = True)\n",
        "# Confirm its dropped#\n",
        "df.isnull().sum()\n",
        "\n"
      ],
      "metadata": {
        "colab": {
          "base_uri": "https://localhost:8080/",
          "height": 460
        },
        "id": "dr0GqYemkIGD",
        "outputId": "d669d5d3-9ebf-44ac-8b4c-c6e6499dcfed"
      },
      "execution_count": null,
      "outputs": [
        {
          "output_type": "execute_result",
          "data": {
            "text/plain": [
              "Unnamed: 0            0\n",
              "review_id             0\n",
              "product_id            0\n",
              "title                 0\n",
              "author                0\n",
              "rating                0\n",
              "content               0\n",
              "timestamp             0\n",
              "profile_id            0\n",
              "is_verified           0\n",
              "helpful_count         0\n",
              "product_attributes    0\n",
              "dtype: int64"
            ],
            "text/html": [
              "<div>\n",
              "<style scoped>\n",
              "    .dataframe tbody tr th:only-of-type {\n",
              "        vertical-align: middle;\n",
              "    }\n",
              "\n",
              "    .dataframe tbody tr th {\n",
              "        vertical-align: top;\n",
              "    }\n",
              "\n",
              "    .dataframe thead th {\n",
              "        text-align: right;\n",
              "    }\n",
              "</style>\n",
              "<table border=\"1\" class=\"dataframe\">\n",
              "  <thead>\n",
              "    <tr style=\"text-align: right;\">\n",
              "      <th></th>\n",
              "      <th>0</th>\n",
              "    </tr>\n",
              "  </thead>\n",
              "  <tbody>\n",
              "    <tr>\n",
              "      <th>Unnamed: 0</th>\n",
              "      <td>0</td>\n",
              "    </tr>\n",
              "    <tr>\n",
              "      <th>review_id</th>\n",
              "      <td>0</td>\n",
              "    </tr>\n",
              "    <tr>\n",
              "      <th>product_id</th>\n",
              "      <td>0</td>\n",
              "    </tr>\n",
              "    <tr>\n",
              "      <th>title</th>\n",
              "      <td>0</td>\n",
              "    </tr>\n",
              "    <tr>\n",
              "      <th>author</th>\n",
              "      <td>0</td>\n",
              "    </tr>\n",
              "    <tr>\n",
              "      <th>rating</th>\n",
              "      <td>0</td>\n",
              "    </tr>\n",
              "    <tr>\n",
              "      <th>content</th>\n",
              "      <td>0</td>\n",
              "    </tr>\n",
              "    <tr>\n",
              "      <th>timestamp</th>\n",
              "      <td>0</td>\n",
              "    </tr>\n",
              "    <tr>\n",
              "      <th>profile_id</th>\n",
              "      <td>0</td>\n",
              "    </tr>\n",
              "    <tr>\n",
              "      <th>is_verified</th>\n",
              "      <td>0</td>\n",
              "    </tr>\n",
              "    <tr>\n",
              "      <th>helpful_count</th>\n",
              "      <td>0</td>\n",
              "    </tr>\n",
              "    <tr>\n",
              "      <th>product_attributes</th>\n",
              "      <td>0</td>\n",
              "    </tr>\n",
              "  </tbody>\n",
              "</table>\n",
              "</div><br><label><b>dtype:</b> int64</label>"
            ]
          },
          "metadata": {},
          "execution_count": 12
        }
      ]
    },
    {
      "cell_type": "code",
      "source": [
        "df['rating'] = df['rating'].astype(float)\n",
        "datatype = df['rating'].dtypes\n",
        "print(datatype)\n",
        "\n"
      ],
      "metadata": {
        "colab": {
          "base_uri": "https://localhost:8080/"
        },
        "id": "XAeh_jFz8nXw",
        "outputId": "ab4f1f76-5738-40c1-9a73-e6fb1dac76ec"
      },
      "execution_count": null,
      "outputs": [
        {
          "output_type": "stream",
          "name": "stdout",
          "text": [
            "float64\n"
          ]
        }
      ]
    },
    {
      "cell_type": "code",
      "source": [
        "# Check for Outliers #\n",
        "!pip install numpy\n",
        "import numpy as np\n",
        "import scipy.stats as stats\n",
        "\n",
        "def find_outliers_IQR(df):\n",
        "\n",
        "   q1=df.quantile(0.25)\n",
        "\n",
        "   q3=df.quantile(0.75)\n",
        "\n",
        "   IQR=q3-q1\n",
        "\n",
        "   outliers = df[((df<(q1-1.5*IQR)) | (df>(q3+1.5*IQR)))]\n",
        "\n",
        "   return outliers\n",
        "\n",
        "outliers = find_outliers_IQR(df['rating'])\n",
        "print('number of outliers:' + str(len(outliers)))\n",
        "\n",
        "print('max outlier value:' + str(outliers.max()))\n",
        "\n",
        "print('min outlier value:' + str(outliers.min()))"
      ],
      "metadata": {
        "colab": {
          "base_uri": "https://localhost:8080/"
        },
        "id": "nEmLk-Cqkqg8",
        "outputId": "32bf91d1-fafe-488a-af6e-bf42b8110872"
      },
      "execution_count": null,
      "outputs": [
        {
          "output_type": "stream",
          "name": "stdout",
          "text": [
            "Requirement already satisfied: numpy in /usr/local/lib/python3.10/dist-packages (1.26.4)\n",
            "number of outliers:82\n",
            "max outlier value:2.0\n",
            "min outlier value:1.0\n"
          ]
        }
      ]
    },
    {
      "cell_type": "markdown",
      "source": [
        "## 5. Exploratory Data Analysis (EDA)\n",
        "\n",
        "### 5.1 Data Overview\n",
        "\n"
      ],
      "metadata": {
        "id": "7LQuEuuKgHJc"
      }
    },
    {
      "cell_type": "markdown",
      "source": [
        "I looked for the mean, median, mode, and standard deviation for my dataset. The average overall rating for all earbuds included was 4.309. This is a good level given that this dataset consisted of over 1000+ reviews. Overall people were very happy with the earbuds they may have chose based on the selection. However, it allows us to understand that there is is still substainsial room for improvement. The median found was 5.0. This suggests that over half of the customers gave their specific earbuds a rating of 5. This is postive as this could allow for brand loyalty as consumers will go back to purchase the same earbud type or from the same company if their current pair were to have any issues. The standard deviation was 1.045 and the variance was 1.091. The standard deviation of 1.045 suggests that majority of the points in the data set remained clustered around the mean. This means that the rating were relatively high with a few outliers that may have widend the range."
      ],
      "metadata": {
        "id": "osGTKWwAr2t1"
      }
    },
    {
      "cell_type": "code",
      "source": [
        "mean = df[\"rating\"].mean()\n",
        "median = df['rating'].median()\n",
        "mode = df['rating'].mode()\n",
        "variance = df['rating'].var()\n",
        "stdev = df['rating'].std()\n",
        "\n",
        "print(mean)\n",
        "print(median)\n",
        "print(mode)\n",
        "print(variance)\n",
        "print(stdev)\n"
      ],
      "metadata": {
        "id": "HXTgzclLgLFb",
        "colab": {
          "base_uri": "https://localhost:8080/"
        },
        "outputId": "25f6e143-57fa-497a-e8d1-ac734da1a3e2"
      },
      "execution_count": null,
      "outputs": [
        {
          "output_type": "stream",
          "name": "stdout",
          "text": [
            "4.1506228765571915\n",
            "4.0\n",
            "0    5.0\n",
            "Name: rating, dtype: float64\n",
            "1.1507564143060018\n",
            "1.072733151490156\n"
          ]
        }
      ]
    },
    {
      "cell_type": "markdown",
      "source": [
        "### 5.2 Visualizations\n"
      ],
      "metadata": {
        "id": "sV0UqGEFgLeB"
      }
    },
    {
      "cell_type": "markdown",
      "source": [
        "In terms of visualizations, I focused on creating a histogram, box plot, and a bar chart. The histogram focuses on the frequency or number of people that gave each rating. It sheds light into understanding what the highest rating was and how the data was spread out between 1-5 stars.The box plot, although not that visually appealing, focuses on the ratings based on each product. This helps each company understand how they are doing compared to others while also seeing the few outliers. The bar chart focuses on how helpful each review rating was compared to the rating given. This means around 500 people found the 2 star review to be extremly helpful for example."
      ],
      "metadata": {
        "id": "Vx39rdimOMbJ"
      }
    },
    {
      "cell_type": "markdown",
      "source": [
        "![Bar Chart - Extern.png](data:image/png;base64,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)"
      ],
      "metadata": {
        "id": "4rhanaRxfLzu"
      }
    },
    {
      "cell_type": "markdown",
      "source": [
        "![Boxplot.png](data:image/png;base64,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)"
      ],
      "metadata": {
        "id": "nJB67nnUfPrF"
      }
    },
    {
      "cell_type": "markdown",
      "source": [
        "![histogram- Extern.png](data:image/png;base64,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)"
      ],
      "metadata": {
        "id": "tRz_TOqafWFw"
      }
    },
    {
      "cell_type": "markdown",
      "source": [
        "### 5.3 Descriptive Statistics\n"
      ],
      "metadata": {
        "id": "MPeXScFFgOuZ"
      }
    },
    {
      "cell_type": "markdown",
      "source": [
        "In terms of key findings, it was clear that the collection of earbuds did fairly good in the eyes of consumers. The histogram reflects how frequently consumers gave each score. It was clear to see how well the products did by how high each bar is in relation to the frequency. The five star rating remained extremly high compared to the other various ratings. In terms of how each indivual product did, the box plot sheds light to understand how they did compared to the other earbuds it was compared by. Finally, the bar chart sheds light into how helpful each rating was. This is important because it allows us to understand how much a specific rating could impact one's willilingness to purchase the product."
      ],
      "metadata": {
        "id": "pTupjnz_fgOQ"
      }
    },
    {
      "cell_type": "markdown",
      "source": [
        "## 6. Sentiment Analysis\n",
        "\n",
        "### 6.1 Methodology\n"
      ],
      "metadata": {
        "id": "-iMv0E-wgRcc"
      }
    },
    {
      "cell_type": "markdown",
      "source": [
        "The sentiment analysis focuses on consumer reviews and analyzes the feedback received understand their overall view on each product. For example, if I used a product and realized that I liked it a lot. I may leave a comment saying \" The best product ever\". From this, one can analyze the text using eithr textblob or NLTk to gain more insight regarding my feeling towards the product. NLTK will allow an analyst to understand how much I liked the product as the output produced usually follows a format similar to this: {pos: , neg: , neu: }. From that, an analyst is able to understand just how much of the text was positive, negative, or neutral. In this case, I used NLTK to understand the reviews by running this code: import nltk\n",
        "from nltk.sentiment import SentimentIntensityAnalyzer\n",
        "nltk.download('vader_lexicon')\n",
        "sia = SentimentIntensityAnalyzer().\n",
        "I ran text = df['content'][0] to lock in the focused information. To obtain an output, I ran the codes Sentiment = sia.polarity_scores(text)\n",
        "print(Sentiment).\n",
        "Textblob focuses on producing information based on the texts. It gives an overall picure of the sentiment, based on one number, and if the comments are more personal or opinion based with another number.\n"
      ],
      "metadata": {
        "id": "XWIhFsrVjVK6"
      }
    },
    {
      "cell_type": "markdown",
      "source": [
        "### 6.2 Results\n"
      ],
      "metadata": {
        "id": "0DBNIEkXgkQl"
      }
    },
    {
      "cell_type": "markdown",
      "source": [
        "When running the codes mentioned in 6.1, the output returned was {'neg': 0.105, 'neu': 0.793, 'pos': 0.102, 'compound': -0.3902}.\n",
        "\n",
        "This allowed me to understand that 10.5% of the reviews were negative, 79.3% were neutral and 10.2% of them were positive. This mean that overall, the earbuds were considered decent to users, however, it should be in each brands interest to alter that information from neutral to positive. It is a good indicator that a lot of work needs to still be done to encourage success for the various earphone brands.\n",
        "\n",
        "The text blob analysis produced an output of\n",
        "polarity= 0.2064486703772419, subjectivity = 0.45769171304885564. This means that the comments were overall positive, however, they can still be improved as the range is between -1 to 1. The subjectiviy recieved a score of 0.458. This meant that the comments were largely opinion based. That would make sense as they were trying the products and chose to leave a review based on how it performed. With this findings, Beats by Dre can use the information presented to their advantage in order to dominate the market. With this information, Beats can channel their improvements to ensure opinion based reviews are more positive than what they currently are."
      ],
      "metadata": {
        "id": "JxT75y8Zl8Lx"
      }
    },
    {
      "cell_type": "markdown",
      "source": [
        "## 7. AI-Generated Insights\n",
        "\n",
        "### 7.1 Using Gemini AI\n"
      ],
      "metadata": {
        "id": "DNwZT81EgnZx"
      }
    },
    {
      "cell_type": "markdown",
      "source": [
        "We used Gemini AI to go through the dataset that has been cleaned up and extract insights used prompts. These prompts were required to have 2-6 cruicial componenets in order to be successful in receiving a beneficial output. The prompts were required to have a task, context, exemplar, persona, format, and tone. The reason I said between 2-6 is because having a task and context is crucial to receiving a less generic response, but, if the goal is to obtain the most concise response then having the other remaining components are essential for its success in deriving a useful output.\n",
        "To tell Gemini AI to extract insights, it was necessary to create codes as such:\n",
        "prompt_message = \"Analyze the following reviews and summarize the key insights:\"\n",
        "insights = analyze_reviews(reviews, api_key, prompt_message)\n",
        "print(insights)\n",
        "\n",
        "The API key was formulated by gemini API on google.  "
      ],
      "metadata": {
        "id": "D7I7R5nnwPii"
      }
    },
    {
      "cell_type": "markdown",
      "source": [
        "### 7.2 Key Insights\n",
        "\n"
      ],
      "metadata": {
        "id": "Ytb0BYEqgpfB"
      }
    },
    {
      "cell_type": "markdown",
      "source": [
        "I asked Gemini AI three questions.\n",
        "1. \"Based on the comments, of all the earbuds, which one seems to have more positive comments and be more favorable overall by users? I am interested in getting realiable earphones with good sound quality.\"\n",
        "2. \"Based on the overall reviews, which earbuds are most water resistant? I am a life guard. Although I won't swim with them, they may get wet.\"\n",
        "3. If I were interested in starting my own earbud company, what are some important take aways to consider? I want to be successful and cater to the needs of my customers.\n",
        "\n",
        "For the first question, Gemini AI responded \"Based on the comments, the **1More ComfoBuds Mini** earbuds seem to have a mixed reception.\" The chat box explained how it had the most positive reviews comapred to its counterparts, based of 1000+ sets of reviews. The reason for its success was how small it was, its comfort, its good sound quality, and how good its noise cancellation is. However, the chat box was sure to list the negative responses from consumers such as quality control issues. Even with both the positive and negative replies, the 1More Comfobuds mini still did the best overall.\n",
        "\n",
        "For the second question, AI looked at the most water-resistant based on the comments but quickly found that even though it scored the highest, the comments were still fairly negative in regard to the its ability to perform well if exposed to water. AI suggested I use other earphones and gave me suggestions of what may be better. The suggestions consisted of Sony WF-1000XM4, Samsung Galaxy Buds 2 Pro, and Jabra Elite 7 Pro.\n",
        "\n",
        "For the final question, the chat box broke down the key takeaways based on the reviews I gave it. From there it created the categories: customer needs & trends, common pain points, opportunites for success, and additional tips.  Every detail given was extracted directly from negative comments in hopes that I would focus on improving them in my earphones."
      ],
      "metadata": {
        "id": "byzId4RMwFSl"
      }
    },
    {
      "cell_type": "markdown",
      "source": [
        "### 7.3 Interpretation\n"
      ],
      "metadata": {
        "id": "Xnipe_rYgvQG"
      }
    },
    {
      "cell_type": "markdown",
      "source": [
        "These insights are very important to Beats by Dre as they clearly explained issues that consumers faced with all the products within the dataset. Beats was not given the highest positive comments. This is something that the company can look into and understand why that was the case. From there, they can work on improving the sections that dissapointed consumers. On top of that, I asked a question regarding what my earphones need to be like in order to be successful if starting a new business in the tech industry. That question gives Beats ample insight as it shows where the industry is currently failing based on comments by 1000+ users. That section gives Beats the blueprint to essentially dominate the industry by tackling each issue one by one or all in one product. This in the long run allows for brand loyalty and in turn allows Beats to increase earnings and continue to remain successful.  "
      ],
      "metadata": {
        "id": "zSkeVr_-2a5f"
      }
    },
    {
      "cell_type": "markdown",
      "source": [
        "## 8. Comparative Analysis\n",
        "\n",
        "### 8.1 Competitor Overview\n"
      ],
      "metadata": {
        "id": "GERtyCkwgxYw"
      }
    },
    {
      "cell_type": "markdown",
      "source": [
        "The competitors analyzed for earbuds were HTC, 1More, JBL , JLAB, Beats, Jabra, Soundcore by Anker, Sony, Sennheiser, and Skullcandy. HTC is a newer company in the technology that created both mobile phones and other technology products such as earphones. 1More is a fairly budget-friendly company that provides different type of audio devices. They create earphones and headphones. JBL produces earphones, headphones, and speakers. Their products are typically affordable in order to grab the attention of more consumers. JLAB produced head and earphones that are catered towards everyone. Their prices are fairly affordable and the products come in various different colors. Jabra specializes in the creation of earphones, headphones, and speakers. On top of that, they also have special products such as hearing aids.  \n",
        "\n"
      ],
      "metadata": {
        "id": "OkM1IMLK3YJh"
      }
    },
    {
      "cell_type": "markdown",
      "source": [
        "### 8.2 Comparison of Sentiments\n",
        "\n",
        "\n"
      ],
      "metadata": {
        "id": "AGLyuZ8ggyf7"
      }
    },
    {
      "cell_type": "markdown",
      "source": [
        "Beats by Dre had an NLTK score of  {'neg': 0.077, 'neu': 0.74, 'pos': 0.184, 'compound': 0.9985}. This means that from all the comments, 7.7% were negative or had  negativity in it, 74% remained neutral, and 18.4% had something positive to say. Its competitors had sentiments with a negative percentage of 10.5, a neutral percentage of 79.3, and a positive percentage of 10.2. Beats exceeded in the comments that had positivity in them, however, they could improve by having a higher difference in positive and neutral comments compared to its competitors. Beats also did better regarding the percent of negativity in comments.\n",
        "\n",
        "In terms of textblob analysis, the analysis calculated a polarity of 0.16530880230880232 and subjectivity of 0.5307694003527337 for Beats. This means the comments were overall positive for Beats comparing this number to a -1 to 1 scale. This remains lower than the competitors score of 20.6%. Some work will need to be done by Beats. Beats recieved a higher score in terms of comments/ reviews being factual or opinionated. Beats recieved a 53% and competitors recieved a 46%.\n",
        "\n"
      ],
      "metadata": {
        "id": "f6wtQ76cG82w"
      }
    },
    {
      "cell_type": "code",
      "source": [
        "Value  = [0.077,  0.74,  0.184, 0.9985]\n",
        "Category = [ 'Negative', 'Neutral', 'Positive', 'Compoound']\n",
        "\n",
        "\n",
        "import pandas as pd\n",
        "import matplotlib.pyplot as plt\n",
        "import numpy as np\n",
        "import seaborn as sns\n",
        "\n",
        "# Create Two Bar Charts\n",
        "plt.bar(Category, Value)\n",
        "plt.title('Beats Sentiments')\n",
        "plt.xlabel('Categories')\n",
        "plt.ylabel('Value')\n",
        "plt.show()\n",
        "\n",
        "\n",
        "Value1 = [0.105, 0.793, 0.102, -0.3902]\n",
        "Category1 = ['Negative', 'Neutral', 'Positive', 'Compound']\n",
        "\n",
        "plt.bar(Category1, Value1)\n",
        "plt.title('Competitor Sentiments')\n",
        "plt.xlabel('Categories')\n",
        "plt.ylabel('Value')\n",
        "plt.show()"
      ],
      "metadata": {
        "colab": {
          "base_uri": "https://localhost:8080/",
          "height": 927
        },
        "id": "WwGxvqIDtjHz",
        "outputId": "bc0bed34-d462-4122-b724-ecc486921f6e"
      },
      "execution_count": null,
      "outputs": [
        {
          "output_type": "display_data",
          "data": {
            "text/plain": [
              "<Figure size 640x480 with 1 Axes>"
            ],
            "image/png": "[encoded data removed]"
          },
          "metadata": {}
        },
        {
          "output_type": "display_data",
          "data": {
            "text/plain": [
              "<Figure size 640x480 with 1 Axes>"
            ],
            "image/png": "[encoded data removed]"
          },
          "metadata": {}
        }
      ]
    },
    {
      "cell_type": "code",
      "source": [],
      "metadata": {
        "id": "e8jsE2EPt4HE"
      },
      "execution_count": null,
      "outputs": []
    },
    {
      "cell_type": "markdown",
      "source": [
        "### 8.3 SWOT Analysis\n"
      ],
      "metadata": {
        "id": "LEwiDwEZg4zK"
      }
    },
    {
      "cell_type": "markdown",
      "source": [
        "\n",
        "**Strength:** Beats produces audio devices such as speakers, earphones, and headphones. Beats earphone and headphones are both water resistant and have noise cancelling abilities. This allows the brand to remain strong as its other competitors also have these features incorporated with their audio devices. On top of that Beats tends to make devices in various different colors. This is a huge strength for the brand as they were first to the game with it. If consumer's see other audio brand do the same, they would automatically infer that they chose to \"copy\" Beats rather than generate an original idea. Beats currently has a partnership with Kim Kardashian. This brand deal has proven to be extremly succesful in terms of the original color scheme produces and the fact that Beats connected with such a large and widely known celebrity. Finally, a large strength for Beats is the fact that they were acquired by Apple. This allows them to have access to  such a large companies resources.  \n",
        "**Weakness:** Beats is not widely recognized when it comes to the speakers they produce. For that, its imperative that they improve their branding on that part as its a device they are producing that isn't gaining enough traction. In addition to that, Beats needs to consider creating devices with greater technological advancements. As of this time, there's not much that Beats produces that allows them to stand out compared to its competitors. The brand does a really good job at producing devices with unqiue colors, but even this isn't enough. One thing people aspire to see is technology that has not been seen before. Majority of people choose to run toward this new technology in order to say they've tried it and were one of the first few people to do so. In the past few years, I haven't heard that type of converstation surround Beats by Dre's products.\n",
        "**Opportunities:** Beats has ample opportunity to succeed by adapting newer technologies to the devices they already own. As mentioned previously, Beats was acquired by Apple, that is an oustanding opportunity in itself in additon to  having the ability to leverage the technology already existing at Apple. This gives the brand a competitive front that no other audio brand has at the momement. Although, its important to understand how to use and leverage this opportunity. Incorperating technlogy such as health tracking gives them an opportunity to succeed compared to others in the market. Customers already have strong love for the devices Beats produced due to its unique color schemes.\n",
        "**Threats:** Threats for Beats is directly related to areas where the brand is not performing as efficiently. The brand has multiple issues with the earbuds and headphones they currently produce. In order to improve their stance, these features need to be improved as they are negatively impacting the company's success. Many people within the reviews shed light regarding how they prefer Beats, however, they chose to go to other audio brands because they could not justify staying with the brand given how weak that component is. This is something so disruptive for the brand that its making them lose current and prospective customers. In order to allow this weakness not to impact them, change is necessary to be made."
      ],
      "metadata": {
        "id": "_qrLEKOmU0QI"
      }
    },
    {
      "cell_type": "markdown",
      "source": [
        "## 9. Strategic Recommendations\n",
        "\n",
        "### 9.1 Product Improvements\n",
        "\n"
      ],
      "metadata": {
        "id": "-cjwuRIbg9ud"
      }
    },
    {
      "cell_type": "markdown",
      "source": [
        "Based on reviewing the comments set forth by my AI chat box and indivually reviewing each comment, it was understood that Beats needs to significantly imporve the microphone its Beats Studio Buds. Multiple people had relatively positive things to say, however, a common con noted was the lack of being heard while using the earphones microphones. People said they had an extremly hard time being heard and that this would often be a nusiance for them. A few people have complained about connection issues, so that it something that could also be fixed to avoid such a low positive score in terms of comments sentiment."
      ],
      "metadata": {
        "id": "wqrefBE4W7rP"
      }
    },
    {
      "cell_type": "markdown",
      "source": [
        "### 9.2 Marketing Strategies\n",
        "\n"
      ],
      "metadata": {
        "id": "2bsNlkdlhBot"
      }
    },
    {
      "cell_type": "markdown",
      "source": [
        "Although a very common response, in this age digital marketing has become a very useful method to improve one's marketing reach. Using digital platforms, such as TikTok, gives Beats not only the opportunity to enagage current customers that support the brand, but also lure in new and prospective customers through the use of the for you page, also know as FYP. When creating video's on TikTok, it would be ideal to either show the new and improved microphones or show consumers how to effectivley use microphones on their current earphones. This shows Beats consumers that the company hears and actively listens to their problems, and also that they are willing to do what is necessary to retain customers. Beats did a very good job by partnering with Kim Kardashian to produce the custom colors of Headphones. The company should consider other partnerships similar to that that could bring in both new customers and retain current customers. Celebrities that have high publicity surrounding their names at the moment such as Taylor Swift, Charli D'Amelio, etc. Another idea would be allowing people to customize their own headphones. Make it personalized, add stickers, have multiple colors. A piece that they know is unique to them only.\n"
      ],
      "metadata": {
        "id": "5bEI5N8LB8WX"
      }
    },
    {
      "cell_type": "markdown",
      "source": [
        "### 9.3 Future Research\n",
        "\n"
      ],
      "metadata": {
        "id": "vmvfoXy_hG_d"
      }
    },
    {
      "cell_type": "markdown",
      "source": [
        "Some areas to research would be understanding what its competitors have that beats is missing. For example, although Apple and Beats are under the same umbrella, more users may be inclined to use Beats given how colorful its products are. Based on the comments, a handful of consumers mentioned their love for choosing different colors. With this advantage, adding features such as health tracking can truly help Beats dominate the audio industry. If people are able to use their earphones/headphones to track step counts and other vital health information, consumers would have no reason choosing another company when needing earphones. Another area for further research would be discovering a method that will allow earbuds to not fall out of its user's ears. At this moment, almost every earphone brand suffers from this. Possibly creating multiple earbud tips could help with this issue. However, an abundance of research will be necessary to find a solution toward this issue."
      ],
      "metadata": {
        "id": "ULlw8mR6ZxYA"
      }
    },
    {
      "cell_type": "markdown",
      "source": [
        "## 10. Conclusion\n"
      ],
      "metadata": {
        "id": "6LrUwAGHhIsP"
      }
    },
    {
      "cell_type": "markdown",
      "source": [
        "Beats by Dre is doing relatively well compared to its counterparts. However, as always, there is still ample room for improvement. For starters, based on the sentiment analysis, Beats by Dre's competitors did substainstially better than them in terms of overall positive reveiws. The company had issues with the opinion based reviews recieved. This in turn hurt them when reviewing the overall sentiment.  On top of that, the brand faced issues in terms of direct comments, by using my own AI chat box, I was able to ask and understand that a large majority of Beats customers have strong concerns regarding the microphone within their earbuds. They complained how it does not work efficiently. There was a repeat of this comment type and most likely directly related to the negative sentiment portion of our analysis.   "
      ],
      "metadata": {
        "id": "H7qHZZcJGaIE"
      }
    },
    {
      "cell_type": "markdown",
      "source": [
        "## 11. References\n",
        "List all the sources, tools, and references used in the project.\n"
      ],
      "metadata": {
        "id": "olikrWxke3lK"
      }
    },
    {
      "cell_type": "markdown",
      "source": [
        "*   https://gemini.google.com/app/\n",
        "*   https://www.nltk.org/\n",
        "*   https://www.nltk.org/howto\n",
        "*   www.amazon.com\n",
        "*   www.oxylabs.com\n",
        "*   colabs.reasearch.google.com\n",
        "*   www.platform.extern.com\n",
        "*   HTC, 1More Comfo Buds,\n",
        "*   JBL Tune 230NC,\n",
        "*   JLAB Go Air pop,\n",
        "*   Beats Studio Buds,\n",
        "*   Jabra Elite 4,\n",
        "*   Soundcore by Anker,\n",
        "*   Sony WF-C700N,\n",
        "*   Sennheiser Consumer Audio CX,\n",
        "*   Skullcandy smokin earbuds\n",
        "*   Chaitanya Baweja"
      ],
      "metadata": {
        "id": "lKibpAwOpr44"
      }
    },
    {
      "cell_type": "code",
      "source": [
        "\n"
      ],
      "metadata": {
        "id": "7oJ92EnYhMp2"
      },
      "execution_count": null,
      "outputs": []
    }
  ]
}